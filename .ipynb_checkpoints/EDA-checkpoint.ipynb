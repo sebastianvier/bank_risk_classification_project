{
 "cells": [
  {
   "cell_type": "code",
   "execution_count": 193,
   "id": "e1e1eda6",
   "metadata": {},
   "outputs": [],
   "source": [
    "## Common Python modules\n",
    "import math, sys\n",
    "import warnings\n",
    "warnings.filterwarnings(\"ignore\", category=FutureWarning)\n",
    "\n",
    "## EDA Libraries\n",
    "import pandas as pd\n",
    "import numpy as np\n",
    "import matplotlib.pyplot as plt\n",
    "import seaborn as sns\n",
    "%matplotlib inline\n",
    "\n",
    "## Libraries for models\n",
    "\n",
    "# Preprocessing data\n",
    "from sklearn.model_selection import train_test_split\n",
    "from sklearn.preprocessing import StandardScaler, OneHotEncoder\n",
    "\n",
    "# Clasification models\n",
    "from sklearn.linear_model import RidgeClassifier, LogisticRegression\n",
    "\n",
    "# Metrics\n",
    "from sklearn.metrics import confusion_matrix, classification_report\n",
    "\n",
    "## Data Balancers\n",
    "from imblearn.over_sampling import SMOTE\n",
    "from imblearn.under_sampling import TomekLinks"
   ]
  },
  {
   "cell_type": "code",
   "execution_count": 2,
   "id": "a737d6f3",
   "metadata": {},
   "outputs": [],
   "source": [
    "## Importing the data\n",
    "path = 'data/creditcardmarketing.xlsx'\n",
    "df = pd.read_excel(path)\n",
    "df.columns = [i.lower().replace(' ','_').replace('#', 'n') for i in df.columns]\n",
    "df = df.drop('customer_number', axis=1)"
   ]
  },
  {
   "cell_type": "code",
   "execution_count": 461,
   "id": "b49d88a7",
   "metadata": {},
   "outputs": [],
   "source": [
    "## functions (this could then stored in another python file)\n",
    "\n",
    "def display_target_per_discrete(data, target): \n",
    "    \n",
    "    ## Variables used in all the columns\n",
    "    total_percentage_no = target.value_counts()['No'] / len(data) ## \n",
    "    total_percentage_yes = target.value_counts()['Yes'] / len(data)\n",
    "    \n",
    "    def get_value_tuples(data, column_name):\n",
    "        \n",
    "        unique_values = sorted(data[column_name].unique()) # get the indices of unique values\n",
    "        column = data[column_name] # Get the column\n",
    "        \n",
    "\n",
    "        for value in unique_values:\n",
    "    \n",
    "            v_counts = target[column == value].value_counts()\n",
    "            total = v_counts.sum()\n",
    "\n",
    "            ## Get the percentages per value_count\n",
    "            if len(v_counts) == 2: # Because you could have the case that there is no value in one of them.\n",
    "                percentage_no = round(v_counts['No'] / total ,3)\n",
    "                percentage_yes = round(v_counts['Yes'] / total, 3)\n",
    "                \n",
    "                \n",
    "                variation_no = round(percentage_no - total_percentage_no, 3)\n",
    "                variation_yes = round(percentage_yes - total_percentage_yes, 3)\n",
    "                \n",
    "                \n",
    "                variation_percentage_no = round((variation_no / total_percentage_no),3) * 100\n",
    "                variation_percentage_yes = round((variation_yes / total_percentage_yes),3) * 100\n",
    "                               \n",
    "                \n",
    "                tup = (total, percentage_no, percentage_yes,\n",
    "                       variation_percentage_no, variation_percentage_yes)\n",
    "                \n",
    "                yield [tup, value]\n",
    "                \n",
    "    \n",
    "    for column_name in data.columns:\n",
    "        df = pd.DataFrame([i[0] for i in get_value_tuples(data, column_name)])\n",
    "        df.index = [i[1] for i in get_value_tuples(data, column_name)]\n",
    "        df.columns = ['total_per_value', 'percentage_no','percentage_yes', '%variation_no', '%variation_yes']\n",
    "        print(column_name.replace('_',' ').capitalize())\n",
    "        display(df)\n",
    "        print('\\n')\n",
    "        \n",
    "\n",
    "def get_outliers_index_categorical(df, threshold=0.02):\n",
    "\n",
    "    def outlier_values_generator(value_counts_serie, threshold=threshold):\n",
    "    ## yields a value from the counts if \n",
    "        serie = value_counts_serie\n",
    "        for i in range(len(serie)):\n",
    "            if serie.values[i] < serie.sum() * threshold:\n",
    "                ## yield if the value_counts is lower than the threshold\n",
    "                ## threshold * sum() == total_values for that percentage: 10% of 1000 => 100\n",
    "                print(f'''{serie.values[i]} outliers found for the value \"\"{serie.index[i]}\" in {column_name}''')\n",
    "                \n",
    "                yield value_counts_serie.index[i]\n",
    "            \n",
    "    \n",
    "    for column_name in df:\n",
    "        column = data[column_name] ## Easier to call later\n",
    "        vc_serie = column.value_counts() ## Get the value counts dataframe\n",
    "\n",
    "        arr = [i for i in outlier_values_generator(vc_serie)]\n",
    "        result = (column[column.isin(arr)].index)\n",
    "        ## Get the index when the value is in the array I got.\n",
    "        ## is in is similar to serie[serie==value] => but uses an array for computation instead.\n",
    "        yield result   \n",
    "\n",
    "def get_outliers_index_iqr(column, threshold=1.5):\n",
    "    \n",
    "    q1 = np.percentile(column, 25)\n",
    "    q3 = np.percentile(column, 75)\n",
    "    iqr = abs(q3-q1)\n",
    "    \n",
    "    condition1 = column > q3 + iqr * threshold\n",
    "    condition2 = column > q1 - iqr * threshold\n",
    "    \n",
    "    result = column[condition1 & condition2].index\n",
    "    return result\n",
    "\n",
    "def get_pairs(n_rows, n_cols):\n",
    "    '''Gives you pairs for ploting subploting with an iteration'''\n",
    "    for i in range(n_rows):\n",
    "        for j in range(n_cols):\n",
    "            yield(i,j)\n",
    "            ## This yielding may look strange \n",
    "            ## but is the only way I found to later\n",
    "            ## pass the code to the axes.\n",
    "\n",
    "\n",
    "def n_outliers(df, column_name):\n",
    "    q1 = np.percentile(df[column_name], 25)\n",
    "    q3 = np.percentile(df[column_name], 75)\n",
    "    iqr = abs(q3 - q1)\n",
    "    \n",
    "    lower = df[column_name][df[column_name] < q1 - 1.5 * iqr]\n",
    "    higher = df[column_name][df[column_name] > q3 + 1.5 * iqr]\n",
    "    \n",
    "    n_lower = len(lower)\n",
    "    n_higher = len(higher)\n",
    "    n_total = len(lower) + len(higher)\n",
    "    \n",
    "    \n",
    "    array = np.array([n_lower, round(n_lower/len(df),3) , round(q1 - 1.5 * iqr,2), \n",
    "                      n_higher, round(n_higher/len(df),3),  round(q3 + 1.5 * iqr,3),\n",
    "                      n_total, round(n_total/len(df),3) ,'none']).reshape(3,3)\n",
    "    \n",
    "    result = pd.DataFrame(data=array, index=['Lower Higher Total'.split(' ')], columns=['Counts', 'Percentage',\n",
    "                                                                                        'Threshold'])\n",
    "    return result\n",
    "\n",
    "\n",
    "def prepare_data_pipe(X,y, array, b_method='smote', split_seed=42, test_size=0.33):\n",
    "    \n",
    "    def balance_data(X_tain, y_train):\n",
    "        \n",
    "        if b_method =='smote':\n",
    "            balancer = SMOTE(random_state=42, k_neighbors=10)\n",
    "        elif b_method == 'tomeklinks':\n",
    "            balancer = TomekLinks()\n",
    "            \n",
    "        X_res, y_res = balancer.fit_resample(X_train, y_train)\n",
    "        return X_res, y_res\n",
    "        \n",
    "    def encode_non_continous(n_c_X_train, n_c_X_test):\n",
    "        \n",
    "        ## transform if n_c_X_test is only one column\n",
    "        if len(n_c_X_test.columns) == 1:\n",
    "            print('What are you doing?, get a move on')\n",
    "        \n",
    "        # create encoder\n",
    "        encoder = OneHotEncoder(drop='first', handle_unknown='ignore').fit(n_c_X_train)\n",
    "        \n",
    "        # transform both sets\n",
    "        n_c_X_train = encoder.transform(n_c_X_train)\n",
    "        n_c_X_test  = encoder.transform(n_c_X_test)\n",
    "        return n_c_X_train, n_c_X_test\n",
    "    \n",
    "    def get_array_split(X, array):\n",
    "        return X[array]\n",
    "    \n",
    "    def merge_X(n_c_X_train,n_c_X_test, c_X_train, c_X_test):\n",
    "        X_train = np.concatenate([np.array(c_X_train), n_c_X_train.todense()], axis=1)\n",
    "        X_test  = np.concatenate([np.array(c_X_test), n_c_X_test.todense()], axis=1)\n",
    "        return X_train, X_test\n",
    "    \n",
    "    def scale_data(X_train, X_test):\n",
    "        scaler = StandardScaler().fit(X_train)\n",
    "        X_train = scaler.transform(X_train)\n",
    "        X_test  = scaler.transform(X_test)\n",
    "        return  X_train, X_test\n",
    "    \n",
    "    \n",
    "    # 1st Split using the array\n",
    "    X = get_array_split(X, array) \n",
    "    \n",
    "    # 2 objects (X, target)\n",
    "    \n",
    "    # 2nd Split train test \n",
    "    X_train, X_test, y_train, y_test = train_test_split(X, y, test_size=test_size, random_state=split_seed)\n",
    "\n",
    "    # 4 objects (X_train, X_test, y_train, y_test)\n",
    "    \n",
    "    # 3rd Split continuous\n",
    "    c_X_train, c_X_test, n_c_X_train, n_c_X_test = split_continuous(X_train, X_test)\n",
    "    \n",
    "    # 6 objects (c_X_train, c_X_test, n_c_X_train, n_c_X_test, y_train, y_test)\n",
    "    \n",
    "    # 4th Encode non continuous\n",
    "    n_c_X_train,n_c_X_test = encode_non_continous(n_c_X_train, n_c_X_test)\n",
    "    \n",
    "     # 6 objects (c_X_train, c_X_test, n_c_X_train, n_c_X_test, y_train, y_test)\n",
    "\n",
    "    # 5th Merge X\n",
    "    X_train, X_test = merge_X(n_c_X_train,n_c_X_test, c_X_train, c_X_test)\n",
    "    \n",
    "     # 4 objects (X_train, X_test, y_train, y_test)\n",
    "    \n",
    "    # 6th Scale the data\n",
    "    X_train, X_test = scale_data(X_train, X_test)\n",
    "    \n",
    "    # 4 objects (X_train, X_test, y_train, y_test)\n",
    "    \n",
    "    \n",
    "    # 7th Balance the data\n",
    "    X_train, y_train = balance_data(X_train, y_train)\n",
    "    \n",
    "    return X_train, X_test, y_train, y_test\n",
    "\n",
    "def split_continuous(X_train,X_test):\n",
    "        '''Splits the data between continuous and non continuous after an split'''\n",
    "        continuous_X_train = X_train.select_dtypes(include='float')\n",
    "        continuous_X_test  = X_test.select_dtypes(include='float')\n",
    "        non_continuous_X_train = X_train.select_dtypes(exclude='float')\n",
    "        non_continuous_X_test  = X_test.select_dtypes(exclude='float')\n",
    "        return continuous_X_train, continuous_X_test, non_continuous_X_train, non_continuous_X_test"
   ]
  },
  {
   "cell_type": "markdown",
   "id": "87448c6d",
   "metadata": {},
   "source": [
    "## 1. EDA"
   ]
  },
  {
   "cell_type": "markdown",
   "id": "3c5a4e8a",
   "metadata": {},
   "source": [
    "### 1.1. Basic Bird's Eye View"
   ]
  },
  {
   "cell_type": "code",
   "execution_count": 4,
   "id": "9fca4340",
   "metadata": {},
   "outputs": [
    {
     "data": {
      "text/plain": [
       "(18000, 16)"
      ]
     },
     "execution_count": 4,
     "metadata": {},
     "output_type": "execute_result"
    }
   ],
   "source": [
    "df.shape"
   ]
  },
  {
   "cell_type": "code",
   "execution_count": 5,
   "id": "28acbdc7",
   "metadata": {
    "scrolled": true
   },
   "outputs": [
    {
     "name": "stdout",
     "output_type": "stream",
     "text": [
      "<class 'pandas.core.frame.DataFrame'>\n",
      "RangeIndex: 18000 entries, 0 to 17999\n",
      "Data columns (total 16 columns):\n",
      " #   Column                Non-Null Count  Dtype  \n",
      "---  ------                --------------  -----  \n",
      " 0   offer_accepted        18000 non-null  object \n",
      " 1   reward                18000 non-null  object \n",
      " 2   mailer_type           18000 non-null  object \n",
      " 3   income_level          18000 non-null  object \n",
      " 4   n_bank_accounts_open  18000 non-null  int64  \n",
      " 5   overdraft_protection  18000 non-null  object \n",
      " 6   credit_rating         18000 non-null  object \n",
      " 7   n_credit_cards_held   18000 non-null  int64  \n",
      " 8   n_homes_owned         18000 non-null  int64  \n",
      " 9   household_size        18000 non-null  int64  \n",
      " 10  own_your_home         18000 non-null  object \n",
      " 11  average_balance       17976 non-null  float64\n",
      " 12  q1_balance            17976 non-null  float64\n",
      " 13  q2_balance            17976 non-null  float64\n",
      " 14  q3_balance            17976 non-null  float64\n",
      " 15  q4_balance            17976 non-null  float64\n",
      "dtypes: float64(5), int64(4), object(7)\n",
      "memory usage: 2.2+ MB\n"
     ]
    }
   ],
   "source": [
    "df.info()"
   ]
  },
  {
   "cell_type": "code",
   "execution_count": 6,
   "id": "313bd729",
   "metadata": {
    "scrolled": true
   },
   "outputs": [
    {
     "data": {
      "text/plain": [
       "offer_accepted           0\n",
       "reward                   0\n",
       "mailer_type              0\n",
       "income_level             0\n",
       "n_bank_accounts_open     0\n",
       "overdraft_protection     0\n",
       "credit_rating            0\n",
       "n_credit_cards_held      0\n",
       "n_homes_owned            0\n",
       "household_size           0\n",
       "own_your_home            0\n",
       "average_balance         24\n",
       "q1_balance              24\n",
       "q2_balance              24\n",
       "q3_balance              24\n",
       "q4_balance              24\n",
       "dtype: int64"
      ]
     },
     "execution_count": 6,
     "metadata": {},
     "output_type": "execute_result"
    }
   ],
   "source": [
    "df.isna().sum()"
   ]
  },
  {
   "cell_type": "code",
   "execution_count": 7,
   "id": "e4010a8d",
   "metadata": {
    "scrolled": false
   },
   "outputs": [
    {
     "data": {
      "text/plain": [
       "No     22\n",
       "Yes     2\n",
       "Name: offer_accepted, dtype: int64"
      ]
     },
     "execution_count": 7,
     "metadata": {},
     "output_type": "execute_result"
    }
   ],
   "source": [
    "data = df.offer_accepted[df.q1_balance.isna()]\n",
    "data.value_counts()\n",
    "## Just check before droping that th distribution is not that off."
   ]
  },
  {
   "cell_type": "code",
   "execution_count": 8,
   "id": "68f4e3f3",
   "metadata": {
    "scrolled": true
   },
   "outputs": [
    {
     "data": {
      "text/plain": [
       "0"
      ]
     },
     "execution_count": 8,
     "metadata": {},
     "output_type": "execute_result"
    }
   ],
   "source": [
    "balance_nan_drop = df[df.q1_balance.isna()].index\n",
    "df = df.drop(balance_nan_drop, errors='ignore')\n",
    "##Just delete all the values were the balances are nan\n",
    "df['q1_balance'].isna().sum()"
   ]
  },
  {
   "cell_type": "code",
   "execution_count": 9,
   "id": "428cbb0b",
   "metadata": {},
   "outputs": [
    {
     "data": {
      "text/html": [
       "<div>\n",
       "<style scoped>\n",
       "    .dataframe tbody tr th:only-of-type {\n",
       "        vertical-align: middle;\n",
       "    }\n",
       "\n",
       "    .dataframe tbody tr th {\n",
       "        vertical-align: top;\n",
       "    }\n",
       "\n",
       "    .dataframe thead th {\n",
       "        text-align: right;\n",
       "    }\n",
       "</style>\n",
       "<table border=\"1\" class=\"dataframe\">\n",
       "  <thead>\n",
       "    <tr style=\"text-align: right;\">\n",
       "      <th></th>\n",
       "      <th>n_bank_accounts_open</th>\n",
       "      <th>n_credit_cards_held</th>\n",
       "      <th>n_homes_owned</th>\n",
       "      <th>household_size</th>\n",
       "      <th>average_balance</th>\n",
       "      <th>q1_balance</th>\n",
       "      <th>q2_balance</th>\n",
       "      <th>q3_balance</th>\n",
       "      <th>q4_balance</th>\n",
       "    </tr>\n",
       "  </thead>\n",
       "  <tbody>\n",
       "    <tr>\n",
       "      <th>count</th>\n",
       "      <td>17976.000000</td>\n",
       "      <td>17976.000000</td>\n",
       "      <td>17976.000000</td>\n",
       "      <td>17976.000000</td>\n",
       "      <td>17976.000000</td>\n",
       "      <td>17976.000000</td>\n",
       "      <td>17976.000000</td>\n",
       "      <td>17976.000000</td>\n",
       "      <td>17976.000000</td>\n",
       "    </tr>\n",
       "    <tr>\n",
       "      <th>mean</th>\n",
       "      <td>1.255730</td>\n",
       "      <td>1.903427</td>\n",
       "      <td>1.203549</td>\n",
       "      <td>3.499110</td>\n",
       "      <td>940.515562</td>\n",
       "      <td>910.450656</td>\n",
       "      <td>999.392190</td>\n",
       "      <td>1042.033600</td>\n",
       "      <td>810.185803</td>\n",
       "    </tr>\n",
       "    <tr>\n",
       "      <th>std</th>\n",
       "      <td>0.472405</td>\n",
       "      <td>0.797086</td>\n",
       "      <td>0.427446</td>\n",
       "      <td>1.114476</td>\n",
       "      <td>350.297837</td>\n",
       "      <td>620.077060</td>\n",
       "      <td>457.402268</td>\n",
       "      <td>553.452599</td>\n",
       "      <td>559.001365</td>\n",
       "    </tr>\n",
       "    <tr>\n",
       "      <th>min</th>\n",
       "      <td>1.000000</td>\n",
       "      <td>1.000000</td>\n",
       "      <td>1.000000</td>\n",
       "      <td>1.000000</td>\n",
       "      <td>48.250000</td>\n",
       "      <td>0.000000</td>\n",
       "      <td>0.000000</td>\n",
       "      <td>0.000000</td>\n",
       "      <td>0.000000</td>\n",
       "    </tr>\n",
       "    <tr>\n",
       "      <th>25%</th>\n",
       "      <td>1.000000</td>\n",
       "      <td>1.000000</td>\n",
       "      <td>1.000000</td>\n",
       "      <td>3.000000</td>\n",
       "      <td>787.500000</td>\n",
       "      <td>392.750000</td>\n",
       "      <td>663.000000</td>\n",
       "      <td>633.000000</td>\n",
       "      <td>363.000000</td>\n",
       "    </tr>\n",
       "    <tr>\n",
       "      <th>50%</th>\n",
       "      <td>1.000000</td>\n",
       "      <td>2.000000</td>\n",
       "      <td>1.000000</td>\n",
       "      <td>3.000000</td>\n",
       "      <td>1007.000000</td>\n",
       "      <td>772.000000</td>\n",
       "      <td>1032.000000</td>\n",
       "      <td>945.500000</td>\n",
       "      <td>703.000000</td>\n",
       "    </tr>\n",
       "    <tr>\n",
       "      <th>75%</th>\n",
       "      <td>1.000000</td>\n",
       "      <td>2.000000</td>\n",
       "      <td>1.000000</td>\n",
       "      <td>4.000000</td>\n",
       "      <td>1153.250000</td>\n",
       "      <td>1521.000000</td>\n",
       "      <td>1342.000000</td>\n",
       "      <td>1463.000000</td>\n",
       "      <td>1212.000000</td>\n",
       "    </tr>\n",
       "    <tr>\n",
       "      <th>max</th>\n",
       "      <td>3.000000</td>\n",
       "      <td>4.000000</td>\n",
       "      <td>3.000000</td>\n",
       "      <td>9.000000</td>\n",
       "      <td>3366.250000</td>\n",
       "      <td>3450.000000</td>\n",
       "      <td>3421.000000</td>\n",
       "      <td>3823.000000</td>\n",
       "      <td>4215.000000</td>\n",
       "    </tr>\n",
       "  </tbody>\n",
       "</table>\n",
       "</div>"
      ],
      "text/plain": [
       "       n_bank_accounts_open  n_credit_cards_held  n_homes_owned  \\\n",
       "count          17976.000000         17976.000000   17976.000000   \n",
       "mean               1.255730             1.903427       1.203549   \n",
       "std                0.472405             0.797086       0.427446   \n",
       "min                1.000000             1.000000       1.000000   \n",
       "25%                1.000000             1.000000       1.000000   \n",
       "50%                1.000000             2.000000       1.000000   \n",
       "75%                1.000000             2.000000       1.000000   \n",
       "max                3.000000             4.000000       3.000000   \n",
       "\n",
       "       household_size  average_balance    q1_balance    q2_balance  \\\n",
       "count    17976.000000     17976.000000  17976.000000  17976.000000   \n",
       "mean         3.499110       940.515562    910.450656    999.392190   \n",
       "std          1.114476       350.297837    620.077060    457.402268   \n",
       "min          1.000000        48.250000      0.000000      0.000000   \n",
       "25%          3.000000       787.500000    392.750000    663.000000   \n",
       "50%          3.000000      1007.000000    772.000000   1032.000000   \n",
       "75%          4.000000      1153.250000   1521.000000   1342.000000   \n",
       "max          9.000000      3366.250000   3450.000000   3421.000000   \n",
       "\n",
       "         q3_balance    q4_balance  \n",
       "count  17976.000000  17976.000000  \n",
       "mean    1042.033600    810.185803  \n",
       "std      553.452599    559.001365  \n",
       "min        0.000000      0.000000  \n",
       "25%      633.000000    363.000000  \n",
       "50%      945.500000    703.000000  \n",
       "75%     1463.000000   1212.000000  \n",
       "max     3823.000000   4215.000000  "
      ]
     },
     "execution_count": 9,
     "metadata": {},
     "output_type": "execute_result"
    }
   ],
   "source": [
    "df.describe()"
   ]
  },
  {
   "cell_type": "markdown",
   "id": "11f332cd",
   "metadata": {},
   "source": [
    "### 1.2 Check for general outliers"
   ]
  },
  {
   "cell_type": "code",
   "execution_count": 10,
   "id": "5b041fe0",
   "metadata": {},
   "outputs": [],
   "source": [
    "continuous = df.select_dtypes(include='float')\n",
    "discrete = df.select_dtypes(include='int')\n",
    "target = df.offer_accepted\n",
    "categorical = df.select_dtypes(include='object').drop('offer_accepted', axis=1)"
   ]
  },
  {
   "cell_type": "code",
   "execution_count": 11,
   "id": "ca8a1485",
   "metadata": {
    "scrolled": true
   },
   "outputs": [
    {
     "name": "stdout",
     "output_type": "stream",
     "text": [
      "15\n"
     ]
    }
   ],
   "source": [
    "print(len(continuous.columns) + len(discrete.columns) + len(categorical.columns) )"
   ]
  },
  {
   "cell_type": "code",
   "execution_count": 12,
   "id": "eef1215a",
   "metadata": {},
   "outputs": [
    {
     "data": {
      "text/plain": [
       "array([ 2296,  2655,  8777,  8887, 10475, 10576, 12633, 12635, 14003,\n",
       "       15259, 15608])"
      ]
     },
     "execution_count": 12,
     "metadata": {},
     "output_type": "execute_result"
    }
   ],
   "source": [
    "data = df.select_dtypes('float').drop('average_balance',axis=1)\n",
    "\n",
    "q1_outliers = get_outliers_index_iqr(data.q1_balance, threshold=1.2) ## This can still \n",
    "q2_outliers = get_outliers_index_iqr(data.q2_balance, threshold=1.2)\n",
    "q3_outliers = get_outliers_index_iqr(data.q3_balance, threshold=1.2)\n",
    "q4_outliers = get_outliers_index_iqr(data.q4_balance, threshold=1.2)\n",
    "outliers_index_continuous = np.unique(np.concatenate([q1_outliers,q2_outliers\n",
    "                                            ,q3_outliers,q4_outliers], 0))\n",
    "\n",
    "outliers_index_continuous"
   ]
  },
  {
   "cell_type": "code",
   "execution_count": 13,
   "id": "af3ef623",
   "metadata": {
    "scrolled": true
   },
   "outputs": [
    {
     "name": "stdout",
     "output_type": "stream",
     "text": [
      "185 outliers found for the value \"\"3\" in n_homes_owned\n",
      "1 outliers found for the value \"\"8\" in household_size\n",
      "1 outliers found for the value \"\"9\" in household_size\n",
      "\n",
      "Length of the array: 187\n"
     ]
    },
    {
     "data": {
      "text/plain": [
       "array([ 38,  58,  95, 101, 104, 481, 495, 527, 760, 824])"
      ]
     },
     "execution_count": 13,
     "metadata": {},
     "output_type": "execute_result"
    }
   ],
   "source": [
    "data = df.select_dtypes('int')\n",
    "indexes = [i for i in get_outliers_index_categorical(data, threshold=0.015)] # 1.5% of the data as outliers\n",
    "outliers_index_discrete = (np.unique(np.concatenate(indexes))) # np.unique eliminates redundancy between indexes\n",
    "print(f'\\nLength of the array: {len(outliers_index_discrete)}')\n",
    "outliers_index_discrete[:10] ## Showing only the first 10"
   ]
  },
  {
   "cell_type": "code",
   "execution_count": 14,
   "id": "a5c22857",
   "metadata": {},
   "outputs": [
    {
     "name": "stdout",
     "output_type": "stream",
     "text": [
      "\n",
      "Length of the array: 0\n"
     ]
    },
    {
     "data": {
      "text/plain": [
       "array([], dtype=int64)"
      ]
     },
     "execution_count": 14,
     "metadata": {},
     "output_type": "execute_result"
    }
   ],
   "source": [
    "data = df.select_dtypes('object')\n",
    "indexes = [i for i in get_outliers_index_categorical(data, threshold=0.015)] # 1.5% of the data as outliers\n",
    "outliers_index_categorical = (np.unique(np.concatenate(indexes)))\n",
    "print(f'\\nLength of the array: {len(outliers_index_categorical)}')\n",
    "outliers_index_categorical[:10] ## Showing only the first 10"
   ]
  },
  {
   "cell_type": "markdown",
   "id": "d17d7447",
   "metadata": {},
   "source": [
    "### 1.3 Train test split"
   ]
  },
  {
   "cell_type": "code",
   "execution_count": 15,
   "id": "386d482d",
   "metadata": {},
   "outputs": [],
   "source": [
    "## Split the data\n",
    "X = df.drop('offer_accepted', axis=1)\n",
    "y = df['offer_accepted']\n",
    "X_train, X_test, y_train, y_test = train_test_split(X, y, test_size=0.30, random_state=30)"
   ]
  },
  {
   "cell_type": "code",
   "execution_count": 16,
   "id": "2f654477",
   "metadata": {},
   "outputs": [],
   "source": [
    "## Get all the matrices for training data\n",
    "data = X_train # Just to maintain consistency.\n",
    "continuous_train = data.select_dtypes(include='float')\n",
    "discrete_train = data.select_dtypes(include='int')\n",
    "categorical_train = data.select_dtypes(include='object') # droping the target is not needed anymore.\n",
    "\n",
    "## Get all the matrices for test data\n",
    "data = X_test\n",
    "continuous_test = data.select_dtypes(include='float')\n",
    "discrete_test = data.select_dtypes(include='int')\n",
    "categorical_test = data.select_dtypes(include='object') "
   ]
  },
  {
   "cell_type": "code",
   "execution_count": 17,
   "id": "2d791070",
   "metadata": {},
   "outputs": [
    {
     "name": "stdout",
     "output_type": "stream",
     "text": [
      "train matrices shapes\n",
      "(12583, 5)\n",
      "(12583, 4)\n",
      "(12583, 6)\n",
      "\n",
      "test matrices shapes\n",
      "(5393, 5)\n",
      "(5393, 4)\n",
      "(5393, 6)\n"
     ]
    }
   ],
   "source": [
    "print('train matrices shapes')\n",
    "for matrix in [continuous_train,discrete_train,categorical_train]:\n",
    "    print(matrix.shape)\n",
    "\n",
    "print('\\ntest matrices shapes')\n",
    "for matrix in [continuous_test,discrete_test,categorical_test]:\n",
    "    print(matrix.shape)"
   ]
  },
  {
   "cell_type": "markdown",
   "id": "0c3a0d84",
   "metadata": {},
   "source": [
    "### 1.4 Check the Value Counts of the target."
   ]
  },
  {
   "cell_type": "code",
   "execution_count": 18,
   "id": "11ae2e0e",
   "metadata": {},
   "outputs": [
    {
     "data": {
      "text/plain": [
       "No     11880\n",
       "Yes      703\n",
       "Name: offer_accepted, dtype: int64"
      ]
     },
     "execution_count": 18,
     "metadata": {},
     "output_type": "execute_result"
    }
   ],
   "source": [
    "data = y_train\n",
    "data.value_counts()"
   ]
  },
  {
   "cell_type": "code",
   "execution_count": 19,
   "id": "7e04c6e5",
   "metadata": {},
   "outputs": [
    {
     "data": {
      "text/plain": [
       "16.89900426742532"
      ]
     },
     "execution_count": 19,
     "metadata": {},
     "output_type": "execute_result"
    }
   ],
   "source": [
    "v_counts = data.value_counts()\n",
    "v_counts['No'] / v_counts['Yes'] "
   ]
  },
  {
   "cell_type": "code",
   "execution_count": 20,
   "id": "2f913281",
   "metadata": {},
   "outputs": [
    {
     "data": {
      "text/plain": [
       "0.6608811748998665"
      ]
     },
     "execution_count": 20,
     "metadata": {},
     "output_type": "execute_result"
    }
   ],
   "source": [
    "## What if Just everything is No.\n",
    "v_counts['No'] / len(target)"
   ]
  },
  {
   "cell_type": "markdown",
   "id": "fc6891a4",
   "metadata": {},
   "source": [
    "It is clear that the target is not well balance. We can see that there is 16.9 times more rejections than accepted offers. This means that if you preddict everything as a 'No' you will actually have more than **94% correct values**. "
   ]
  },
  {
   "cell_type": "markdown",
   "id": "d049b242",
   "metadata": {},
   "source": [
    "### 1.5 Cheking Continuous Data "
   ]
  },
  {
   "cell_type": "code",
   "execution_count": 21,
   "id": "5728733f",
   "metadata": {},
   "outputs": [],
   "source": [
    "data = continuous_train"
   ]
  },
  {
   "cell_type": "code",
   "execution_count": 22,
   "id": "580b943a",
   "metadata": {},
   "outputs": [
    {
     "data": {
      "text/plain": [
       "count    12583.000000\n",
       "mean       938.661269\n",
       "std        351.859466\n",
       "min         48.250000\n",
       "25%        787.750000\n",
       "50%       1007.750000\n",
       "75%       1151.375000\n",
       "max       3366.250000\n",
       "dtype: float64"
      ]
     },
     "execution_count": 22,
     "metadata": {},
     "output_type": "execute_result"
    }
   ],
   "source": [
    "## This is how it is calculated. First getting the mean of all the values and \n",
    "## then apply a describe function.\n",
    "data.iloc[:,1:].mean(axis=1).describe()"
   ]
  },
  {
   "cell_type": "markdown",
   "id": "b38bc000",
   "metadata": {},
   "source": [
    "The first thing we can see that there is a column that is **dependent** on the other 4. This means we can just drop the column. "
   ]
  },
  {
   "cell_type": "code",
   "execution_count": 23,
   "id": "d1569134",
   "metadata": {},
   "outputs": [],
   "source": [
    "average_balance = data['average_balance']\n",
    "data = data.drop('average_balance',axis=1)"
   ]
  },
  {
   "cell_type": "code",
   "execution_count": 24,
   "id": "4d15a701",
   "metadata": {},
   "outputs": [
    {
     "data": {
      "text/html": [
       "<div>\n",
       "<style scoped>\n",
       "    .dataframe tbody tr th:only-of-type {\n",
       "        vertical-align: middle;\n",
       "    }\n",
       "\n",
       "    .dataframe tbody tr th {\n",
       "        vertical-align: top;\n",
       "    }\n",
       "\n",
       "    .dataframe thead th {\n",
       "        text-align: right;\n",
       "    }\n",
       "</style>\n",
       "<table border=\"1\" class=\"dataframe\">\n",
       "  <thead>\n",
       "    <tr style=\"text-align: right;\">\n",
       "      <th></th>\n",
       "      <th>q1_balance</th>\n",
       "      <th>q2_balance</th>\n",
       "      <th>q3_balance</th>\n",
       "      <th>q4_balance</th>\n",
       "    </tr>\n",
       "  </thead>\n",
       "  <tbody>\n",
       "    <tr>\n",
       "      <th>count</th>\n",
       "      <td>12583.000000</td>\n",
       "      <td>12583.000000</td>\n",
       "      <td>12583.000000</td>\n",
       "      <td>12583.000000</td>\n",
       "    </tr>\n",
       "    <tr>\n",
       "      <th>mean</th>\n",
       "      <td>912.464436</td>\n",
       "      <td>997.503060</td>\n",
       "      <td>1037.259636</td>\n",
       "      <td>807.417945</td>\n",
       "    </tr>\n",
       "    <tr>\n",
       "      <th>std</th>\n",
       "      <td>619.506209</td>\n",
       "      <td>458.742749</td>\n",
       "      <td>553.314917</td>\n",
       "      <td>560.870314</td>\n",
       "    </tr>\n",
       "    <tr>\n",
       "      <th>min</th>\n",
       "      <td>0.000000</td>\n",
       "      <td>1.000000</td>\n",
       "      <td>0.000000</td>\n",
       "      <td>0.000000</td>\n",
       "    </tr>\n",
       "    <tr>\n",
       "      <th>25%</th>\n",
       "      <td>392.000000</td>\n",
       "      <td>661.000000</td>\n",
       "      <td>629.000000</td>\n",
       "      <td>356.000000</td>\n",
       "    </tr>\n",
       "    <tr>\n",
       "      <th>50%</th>\n",
       "      <td>778.000000</td>\n",
       "      <td>1032.000000</td>\n",
       "      <td>942.000000</td>\n",
       "      <td>699.000000</td>\n",
       "    </tr>\n",
       "    <tr>\n",
       "      <th>75%</th>\n",
       "      <td>1526.000000</td>\n",
       "      <td>1339.000000</td>\n",
       "      <td>1457.000000</td>\n",
       "      <td>1210.500000</td>\n",
       "    </tr>\n",
       "    <tr>\n",
       "      <th>max</th>\n",
       "      <td>2509.000000</td>\n",
       "      <td>3421.000000</td>\n",
       "      <td>3823.000000</td>\n",
       "      <td>4215.000000</td>\n",
       "    </tr>\n",
       "  </tbody>\n",
       "</table>\n",
       "</div>"
      ],
      "text/plain": [
       "         q1_balance    q2_balance    q3_balance    q4_balance\n",
       "count  12583.000000  12583.000000  12583.000000  12583.000000\n",
       "mean     912.464436    997.503060   1037.259636    807.417945\n",
       "std      619.506209    458.742749    553.314917    560.870314\n",
       "min        0.000000      1.000000      0.000000      0.000000\n",
       "25%      392.000000    661.000000    629.000000    356.000000\n",
       "50%      778.000000   1032.000000    942.000000    699.000000\n",
       "75%     1526.000000   1339.000000   1457.000000   1210.500000\n",
       "max     2509.000000   3421.000000   3823.000000   4215.000000"
      ]
     },
     "execution_count": 24,
     "metadata": {},
     "output_type": "execute_result"
    }
   ],
   "source": [
    "data.describe()"
   ]
  },
  {
   "cell_type": "code",
   "execution_count": 25,
   "id": "b8d853b7",
   "metadata": {
    "scrolled": true
   },
   "outputs": [
    {
     "data": {
      "image/png": "[encoded data removed]",
      "text/plain": [
       "<Figure size 504x432 with 1 Axes>"
      ]
     },
     "metadata": {
      "needs_background": "light"
     },
     "output_type": "display_data"
    }
   ],
   "source": [
    "rows = ['25%', '50%', '75%', 'max']\n",
    "colors = ['r', 'y','b','g']\n",
    "l_rows = len(rows)\n",
    "\n",
    "fig = plt.figure(figsize=(7,6))\n",
    "\n",
    "for i in range(len(rows)):\n",
    "    column_name = rows[i]\n",
    "    x = data.describe().loc[column_name].index ## Row name is the 25%, 50%...\n",
    "    y = data.describe().loc[column_name].values\n",
    "    plt.plot(x, y , color=colors[i],linewidth=1, label=rows[i])\n",
    "    \n",
    "plt.legend()\n",
    "plt.ylim(0, 4500)\n",
    "    \n",
    "plt.tight_layout()\n",
    "plt.show()"
   ]
  },
  {
   "cell_type": "markdown",
   "id": "d02bfb69",
   "metadata": {},
   "source": [
    "This is not super precise, but it gives an idea of how behaviour of the different groups from the riches to the poorest. What can be observed is that both **25% and 50%** people start low, gets a better balance throughout the year and then it returns back to low. The **75%** starts high and then slowly descends. And the **100%** keeps going up. This is of course a single value consideration; and the max is probably an outlier. But since the percentiles are calculated by columns and not rows; it could already be giving some insight on the data."
   ]
  },
  {
   "cell_type": "code",
   "execution_count": 26,
   "id": "c4fcb605",
   "metadata": {},
   "outputs": [
    {
     "data": {
      "image/png": "[encoded data removed]",
      "text/plain": [
       "<Figure size 720x504 with 1 Axes>"
      ]
     },
     "metadata": {
      "needs_background": "light"
     },
     "output_type": "display_data"
    }
   ],
   "source": [
    "colors = ['r', 'y']\n",
    "fig, axs = plt.subplots(1,1, figsize=(10,7))\n",
    "for i in range(2):\n",
    "    sns.histplot(data=data, x=data.columns[i],\n",
    "                 bins=70, ax=axs, color=colors[i], label=data.columns[i])\n",
    "\n",
    "plt.legend()\n",
    "plt.show()"
   ]
  },
  {
   "cell_type": "code",
   "execution_count": 27,
   "id": "9cc39536",
   "metadata": {
    "scrolled": true
   },
   "outputs": [
    {
     "data": {
      "image/png": "[encoded data removed]",
      "text/plain": [
       "<Figure size 720x504 with 1 Axes>"
      ]
     },
     "metadata": {
      "needs_background": "light"
     },
     "output_type": "display_data"
    }
   ],
   "source": [
    "colors = ['r', 'y']\n",
    "fig, axs = plt.subplots(1,1, figsize=(10,7))\n",
    "for i in range(2):\n",
    "    sns.histplot(data=data, x=data.columns[i+2],\n",
    "                 bins=70, ax=axs, color=colors[i], label=data.columns[i+2])\n",
    "\n",
    "plt.legend()\n",
    "plt.show()"
   ]
  },
  {
   "cell_type": "markdown",
   "id": "ef491d04",
   "metadata": {},
   "source": [
    "This shows a lot of stuff:\n",
    "1) That there are a lot of outliers, specially in the highest range of the values\n",
    "<br>2) It looks as if there was some kind of pumping (like a heart)\n",
    "<br>3) The amount of people with a balance lower to 1000 is highes at the q4 (guess at the end of the year)."
   ]
  },
  {
   "cell_type": "markdown",
   "id": "f748d3a1",
   "metadata": {},
   "source": [
    "Now it is shown the boxplots between each q and the target."
   ]
  },
  {
   "cell_type": "code",
   "execution_count": 28,
   "id": "f4efa9c2",
   "metadata": {},
   "outputs": [],
   "source": [
    "data = pd.concat([data,y_train],axis=1)"
   ]
  },
  {
   "cell_type": "code",
   "execution_count": 29,
   "id": "e4a43c16",
   "metadata": {
    "scrolled": true
   },
   "outputs": [
    {
     "data": {
      "text/html": [
       "<div>\n",
       "<style scoped>\n",
       "    .dataframe tbody tr th:only-of-type {\n",
       "        vertical-align: middle;\n",
       "    }\n",
       "\n",
       "    .dataframe tbody tr th {\n",
       "        vertical-align: top;\n",
       "    }\n",
       "\n",
       "    .dataframe thead th {\n",
       "        text-align: right;\n",
       "    }\n",
       "</style>\n",
       "<table border=\"1\" class=\"dataframe\">\n",
       "  <thead>\n",
       "    <tr style=\"text-align: right;\">\n",
       "      <th></th>\n",
       "      <th>q1_balance</th>\n",
       "      <th>q2_balance</th>\n",
       "      <th>q3_balance</th>\n",
       "      <th>q4_balance</th>\n",
       "      <th>offer_accepted</th>\n",
       "    </tr>\n",
       "  </thead>\n",
       "  <tbody>\n",
       "    <tr>\n",
       "      <th>3257</th>\n",
       "      <td>875.0</td>\n",
       "      <td>817.0</td>\n",
       "      <td>913.0</td>\n",
       "      <td>580.0</td>\n",
       "      <td>No</td>\n",
       "    </tr>\n",
       "    <tr>\n",
       "      <th>14091</th>\n",
       "      <td>633.0</td>\n",
       "      <td>714.0</td>\n",
       "      <td>839.0</td>\n",
       "      <td>580.0</td>\n",
       "      <td>No</td>\n",
       "    </tr>\n",
       "    <tr>\n",
       "      <th>17881</th>\n",
       "      <td>225.0</td>\n",
       "      <td>214.0</td>\n",
       "      <td>7.0</td>\n",
       "      <td>67.0</td>\n",
       "      <td>No</td>\n",
       "    </tr>\n",
       "    <tr>\n",
       "      <th>17701</th>\n",
       "      <td>198.0</td>\n",
       "      <td>51.0</td>\n",
       "      <td>349.0</td>\n",
       "      <td>105.0</td>\n",
       "      <td>No</td>\n",
       "    </tr>\n",
       "    <tr>\n",
       "      <th>3091</th>\n",
       "      <td>1367.0</td>\n",
       "      <td>842.0</td>\n",
       "      <td>775.0</td>\n",
       "      <td>996.0</td>\n",
       "      <td>No</td>\n",
       "    </tr>\n",
       "    <tr>\n",
       "      <th>...</th>\n",
       "      <td>...</td>\n",
       "      <td>...</td>\n",
       "      <td>...</td>\n",
       "      <td>...</td>\n",
       "      <td>...</td>\n",
       "    </tr>\n",
       "    <tr>\n",
       "      <th>501</th>\n",
       "      <td>178.0</td>\n",
       "      <td>472.0</td>\n",
       "      <td>5.0</td>\n",
       "      <td>381.0</td>\n",
       "      <td>No</td>\n",
       "    </tr>\n",
       "    <tr>\n",
       "      <th>12091</th>\n",
       "      <td>630.0</td>\n",
       "      <td>757.0</td>\n",
       "      <td>854.0</td>\n",
       "      <td>849.0</td>\n",
       "      <td>No</td>\n",
       "    </tr>\n",
       "    <tr>\n",
       "      <th>15298</th>\n",
       "      <td>911.0</td>\n",
       "      <td>812.0</td>\n",
       "      <td>618.0</td>\n",
       "      <td>888.0</td>\n",
       "      <td>No</td>\n",
       "    </tr>\n",
       "    <tr>\n",
       "      <th>4521</th>\n",
       "      <td>1639.0</td>\n",
       "      <td>1805.0</td>\n",
       "      <td>1608.0</td>\n",
       "      <td>1518.0</td>\n",
       "      <td>No</td>\n",
       "    </tr>\n",
       "    <tr>\n",
       "      <th>5932</th>\n",
       "      <td>332.0</td>\n",
       "      <td>1894.0</td>\n",
       "      <td>1797.0</td>\n",
       "      <td>577.0</td>\n",
       "      <td>No</td>\n",
       "    </tr>\n",
       "  </tbody>\n",
       "</table>\n",
       "<p>12583 rows × 5 columns</p>\n",
       "</div>"
      ],
      "text/plain": [
       "       q1_balance  q2_balance  q3_balance  q4_balance offer_accepted\n",
       "3257        875.0       817.0       913.0       580.0             No\n",
       "14091       633.0       714.0       839.0       580.0             No\n",
       "17881       225.0       214.0         7.0        67.0             No\n",
       "17701       198.0        51.0       349.0       105.0             No\n",
       "3091       1367.0       842.0       775.0       996.0             No\n",
       "...           ...         ...         ...         ...            ...\n",
       "501         178.0       472.0         5.0       381.0             No\n",
       "12091       630.0       757.0       854.0       849.0             No\n",
       "15298       911.0       812.0       618.0       888.0             No\n",
       "4521       1639.0      1805.0      1608.0      1518.0             No\n",
       "5932        332.0      1894.0      1797.0       577.0             No\n",
       "\n",
       "[12583 rows x 5 columns]"
      ]
     },
     "execution_count": 29,
     "metadata": {},
     "output_type": "execute_result"
    }
   ],
   "source": [
    "data"
   ]
  },
  {
   "cell_type": "code",
   "execution_count": 30,
   "id": "8727023e",
   "metadata": {},
   "outputs": [
    {
     "data": {
      "image/png": "[encoded data removed]",
      "text/plain": [
       "<Figure size 864x576 with 4 Axes>"
      ]
     },
     "metadata": {
      "needs_background": "light"
     },
     "output_type": "display_data"
    }
   ],
   "source": [
    "fig, axs = plt.subplots(2,2, figsize=(12,8))\n",
    "pairs = [i for i in get_pairs(2,2)] # This is needed to make the iteration below work.\n",
    "\n",
    "for i in range(4):\n",
    "    axs[pairs[i]].x_lim = (0,4500)\n",
    "    sns.boxplot(data=data,x=data.columns[i], y='offer_accepted', ax=axs[pairs[i]]) \n",
    "plt.show()"
   ]
  },
  {
   "cell_type": "markdown",
   "id": "ddfeeb1d",
   "metadata": {},
   "source": [
    "As **unexpected** as it may sound, it doesn't seem to be much correlation between the balance someone has and if the accept or not their offer."
   ]
  },
  {
   "cell_type": "code",
   "execution_count": 31,
   "id": "c4ed2067",
   "metadata": {
    "scrolled": true
   },
   "outputs": [
    {
     "data": {
      "image/png": "[encoded data removed]",
      "text/plain": [
       "<Figure size 360x360 with 1 Axes>"
      ]
     },
     "metadata": {
      "needs_background": "light"
     },
     "output_type": "display_data"
    }
   ],
   "source": [
    "variance_q1_q4 = data['q4_balance'] - data['q1_balance'] ## Because probably what they are watching \n",
    "                                                         ## is the way they spend the money.\n",
    "    \n",
    "fig = plt.figure(figsize=(5,5))\n",
    "sns.boxplot(data=data,x=variance_q1_q4, y='offer_accepted') \n",
    "plt.show()\n",
    "\n",
    "## Better, but there is doesn't seem to be significant correlation."
   ]
  },
  {
   "cell_type": "markdown",
   "id": "db276b34",
   "metadata": {},
   "source": [
    "Finally it would be shown what is the relationship between **offer_accepted** and the **outliers**. For this it would be used the average balance."
   ]
  },
  {
   "cell_type": "code",
   "execution_count": 32,
   "id": "19aa9ed1",
   "metadata": {},
   "outputs": [
    {
     "data": {
      "image/png": "[encoded data removed]",
      "text/plain": [
       "<Figure size 864x576 with 4 Axes>"
      ]
     },
     "metadata": {
      "needs_background": "light"
     },
     "output_type": "display_data"
    }
   ],
   "source": [
    "fig, axs = plt.subplots(2,2, figsize=(12,8))\n",
    "pairs = [i for i in get_pairs(2,2)] # This is needed to make the iteration below work.\n",
    "\n",
    "for i in range(4):\n",
    "    axs[pairs[i]].x_lim = (0,4500)\n",
    "    sns.boxplot(data=data,x=data.columns[i],  ax=axs[pairs[i]]) \n",
    "plt.show()"
   ]
  },
  {
   "cell_type": "code",
   "execution_count": 33,
   "id": "e5e44564",
   "metadata": {},
   "outputs": [
    {
     "name": "stdout",
     "output_type": "stream",
     "text": [
      "size index: 6\n",
      "\n"
     ]
    },
    {
     "data": {
      "text/plain": [
       "No    6\n",
       "Name: offer_accepted, dtype: int64"
      ]
     },
     "execution_count": 33,
     "metadata": {},
     "output_type": "execute_result"
    }
   ],
   "source": [
    "q1_outliers = get_outliers_index_iqr(data.q1_balance, threshold=1.5)\n",
    "q2_outliers = get_outliers_index_iqr(data.q2_balance, threshold=1.5)\n",
    "q3_outliers = get_outliers_index_iqr(data.q3_balance, threshold=1.5)\n",
    "q4_outliers = get_outliers_index_iqr(data.q4_balance, threshold=1.5)\n",
    "index = np.unique(np.concatenate([q1_outliers,q2_outliers\n",
    "                                  ,q3_outliers,q4_outliers], 0))\n",
    "print(f'size index: {len(index)}\\n')\n",
    "\n",
    "df.offer_accepted[index].value_counts()"
   ]
  },
  {
   "cell_type": "markdown",
   "id": "7abe1625",
   "metadata": {},
   "source": [
    "All outlers are **being regected**. This may have many reasons that are out of the scope of this analysis."
   ]
  },
  {
   "cell_type": "code",
   "execution_count": 34,
   "id": "27a70cce",
   "metadata": {
    "scrolled": true
   },
   "outputs": [
    {
     "data": {
      "text/plain": [
       "<function matplotlib.pyplot.show(close=None, block=None)>"
      ]
     },
     "execution_count": 34,
     "metadata": {},
     "output_type": "execute_result"
    },
    {
     "data": {
      "image/png": "[encoded data removed]",
      "text/plain": [
       "<Figure size 432x288 with 2 Axes>"
      ]
     },
     "metadata": {
      "needs_background": "light"
     },
     "output_type": "display_data"
    }
   ],
   "source": [
    "corr = data.corr(method='spearman')\n",
    "sns.heatmap(corr, cmap='RdYlGn_r',  annot=True)\n",
    "plt.show"
   ]
  },
  {
   "cell_type": "markdown",
   "id": "6ba1fa52",
   "metadata": {},
   "source": [
    "It can be seen that the correlation is not that high. Probably the only thing that is interesting is the negative correlation between balance 1 and the balances 3 and balance 4."
   ]
  },
  {
   "cell_type": "code",
   "execution_count": 35,
   "id": "7155032d",
   "metadata": {
    "scrolled": true
   },
   "outputs": [
    {
     "data": {
      "text/plain": [
       "<AxesSubplot:xlabel='q1_balance', ylabel='q4_balance'>"
      ]
     },
     "execution_count": 35,
     "metadata": {},
     "output_type": "execute_result"
    },
    {
     "data": {
      "image/png": "[encoded data removed]",
      "text/plain": [
       "<Figure size 432x288 with 1 Axes>"
      ]
     },
     "metadata": {
      "needs_background": "light"
     },
     "output_type": "display_data"
    }
   ],
   "source": [
    "sns.scatterplot(data=data, x='q1_balance',y='q4_balance')"
   ]
  },
  {
   "cell_type": "code",
   "execution_count": 36,
   "id": "4abdd419",
   "metadata": {
    "scrolled": true
   },
   "outputs": [
    {
     "data": {
      "text/plain": [
       "<AxesSubplot:xlabel='q1_balance', ylabel='q3_balance'>"
      ]
     },
     "execution_count": 36,
     "metadata": {},
     "output_type": "execute_result"
    },
    {
     "data": {
      "image/png": "[encoded data removed]",
      "text/plain": [
       "<Figure size 432x288 with 1 Axes>"
      ]
     },
     "metadata": {
      "needs_background": "light"
     },
     "output_type": "display_data"
    }
   ],
   "source": [
    "sns.scatterplot(data=data, x='q1_balance',y='q3_balance')"
   ]
  },
  {
   "cell_type": "code",
   "execution_count": 37,
   "id": "6e993771",
   "metadata": {
    "scrolled": true
   },
   "outputs": [
    {
     "data": {
      "text/plain": [
       "<AxesSubplot:xlabel='q3_balance', ylabel='q4_balance'>"
      ]
     },
     "execution_count": 37,
     "metadata": {},
     "output_type": "execute_result"
    },
    {
     "data": {
      "image/png": "[encoded data removed]",
      "text/plain": [
       "<Figure size 432x288 with 1 Axes>"
      ]
     },
     "metadata": {
      "needs_background": "light"
     },
     "output_type": "display_data"
    }
   ],
   "source": [
    "sns.scatterplot(data=data, x='q3_balance',y='q4_balance')"
   ]
  },
  {
   "cell_type": "code",
   "execution_count": 38,
   "id": "59ca9468",
   "metadata": {
    "scrolled": true
   },
   "outputs": [
    {
     "data": {
      "text/plain": [
       "<AxesSubplot:xlabel='q2_balance', ylabel='q3_balance'>"
      ]
     },
     "execution_count": 38,
     "metadata": {},
     "output_type": "execute_result"
    },
    {
     "data": {
      "image/png": "[encoded data removed]",
      "text/plain": [
       "<Figure size 432x288 with 1 Axes>"
      ]
     },
     "metadata": {
      "needs_background": "light"
     },
     "output_type": "display_data"
    }
   ],
   "source": [
    "sns.scatterplot(data=data, x='q2_balance',y='q3_balance')"
   ]
  },
  {
   "cell_type": "markdown",
   "id": "8c0abacd",
   "metadata": {},
   "source": [
    "I deffinetely wasn't expecting this sort of **behaviour**. Not even sure what to do with this."
   ]
  },
  {
   "cell_type": "code",
   "execution_count": 39,
   "id": "160a9d0d",
   "metadata": {},
   "outputs": [
    {
     "data": {
      "text/plain": [
       "14225     618.0\n",
       "2449      488.0\n",
       "5625     1632.0\n",
       "4945      270.0\n",
       "3276      662.0\n",
       "8892      157.0\n",
       "14077    1676.0\n",
       "831       303.0\n",
       "15519     965.0\n",
       "16038    1493.0\n",
       "Name: q1_balance, dtype: float64"
      ]
     },
     "execution_count": 39,
     "metadata": {},
     "output_type": "execute_result"
    }
   ],
   "source": [
    "data.q1_balance.sample(10)"
   ]
  },
  {
   "cell_type": "markdown",
   "id": "c0d2480b",
   "metadata": {},
   "source": [
    "### 1.6 Checking Discrete Data"
   ]
  },
  {
   "cell_type": "code",
   "execution_count": 40,
   "id": "74f0e05e",
   "metadata": {},
   "outputs": [],
   "source": [
    "data = discrete_train"
   ]
  },
  {
   "cell_type": "code",
   "execution_count": 41,
   "id": "d5da17c0",
   "metadata": {
    "scrolled": false
   },
   "outputs": [
    {
     "name": "stdout",
     "output_type": "stream",
     "text": [
      "n_bank_accounts_open\n",
      "1    9586\n",
      "2    2797\n",
      "3     200\n",
      "Name: n_bank_accounts_open, dtype: int64\n",
      "\n",
      "\n",
      "n_credit_cards_held\n",
      "1    4303\n",
      "2    5578\n",
      "3    2331\n",
      "4     371\n",
      "Name: n_credit_cards_held, dtype: int64\n",
      "\n",
      "\n",
      "n_homes_owned\n",
      "1    10146\n",
      "2     2303\n",
      "3      134\n",
      "Name: n_homes_owned, dtype: int64\n",
      "\n",
      "\n",
      "household_size\n",
      "1     392\n",
      "2    1908\n",
      "3    3971\n",
      "4    3935\n",
      "5    2006\n",
      "6     370\n",
      "8       1\n",
      "Name: household_size, dtype: int64\n",
      "\n",
      "\n"
     ]
    }
   ],
   "source": [
    "for column_name in data:\n",
    "\n",
    "    df = data[column_name].value_counts()\n",
    "    index = df.index.sort_values()\n",
    "    print(column_name)\n",
    "    print(df[index])\n",
    "    print('\\n')"
   ]
  },
  {
   "cell_type": "markdown",
   "id": "77f38627",
   "metadata": {},
   "source": [
    "Most columns in **discrete** have less than **5 value**. The only one that doesn't follow this rule is **household_size** which **has 8**. Nevertheless, it can be seen that value 8 have only 1 entry. "
   ]
  },
  {
   "cell_type": "markdown",
   "id": "6055fee1",
   "metadata": {},
   "source": [
    "It is clear what the **n_columns** are. But what is the meaning of **household_size** is more **ambiguous** ."
   ]
  },
  {
   "cell_type": "code",
   "execution_count": 43,
   "id": "83adf0f9",
   "metadata": {},
   "outputs": [
    {
     "name": "stdout",
     "output_type": "stream",
     "text": [
      "N bank accounts open\n"
     ]
    },
    {
     "data": {
      "text/html": [
       "<div>\n",
       "<style scoped>\n",
       "    .dataframe tbody tr th:only-of-type {\n",
       "        vertical-align: middle;\n",
       "    }\n",
       "\n",
       "    .dataframe tbody tr th {\n",
       "        vertical-align: top;\n",
       "    }\n",
       "\n",
       "    .dataframe thead th {\n",
       "        text-align: right;\n",
       "    }\n",
       "</style>\n",
       "<table border=\"1\" class=\"dataframe\">\n",
       "  <thead>\n",
       "    <tr style=\"text-align: right;\">\n",
       "      <th></th>\n",
       "      <th>total_per_value</th>\n",
       "      <th>percentage_no</th>\n",
       "      <th>percentage_yes</th>\n",
       "      <th>%variation_no</th>\n",
       "      <th>%variation_yes</th>\n",
       "    </tr>\n",
       "  </thead>\n",
       "  <tbody>\n",
       "    <tr>\n",
       "      <th>1</th>\n",
       "      <td>9586</td>\n",
       "      <td>0.943</td>\n",
       "      <td>0.057</td>\n",
       "      <td>-0.1</td>\n",
       "      <td>1.8</td>\n",
       "    </tr>\n",
       "    <tr>\n",
       "      <th>2</th>\n",
       "      <td>2797</td>\n",
       "      <td>0.946</td>\n",
       "      <td>0.054</td>\n",
       "      <td>0.2</td>\n",
       "      <td>-3.6</td>\n",
       "    </tr>\n",
       "    <tr>\n",
       "      <th>3</th>\n",
       "      <td>200</td>\n",
       "      <td>0.960</td>\n",
       "      <td>0.040</td>\n",
       "      <td>1.7</td>\n",
       "      <td>-28.6</td>\n",
       "    </tr>\n",
       "  </tbody>\n",
       "</table>\n",
       "</div>"
      ],
      "text/plain": [
       "   total_per_value  percentage_no  percentage_yes  %variation_no  \\\n",
       "1             9586          0.943           0.057           -0.1   \n",
       "2             2797          0.946           0.054            0.2   \n",
       "3              200          0.960           0.040            1.7   \n",
       "\n",
       "   %variation_yes  \n",
       "1             1.8  \n",
       "2            -3.6  \n",
       "3           -28.6  "
      ]
     },
     "metadata": {},
     "output_type": "display_data"
    },
    {
     "name": "stdout",
     "output_type": "stream",
     "text": [
      "\n",
      "\n",
      "N credit cards held\n"
     ]
    },
    {
     "data": {
      "text/html": [
       "<div>\n",
       "<style scoped>\n",
       "    .dataframe tbody tr th:only-of-type {\n",
       "        vertical-align: middle;\n",
       "    }\n",
       "\n",
       "    .dataframe tbody tr th {\n",
       "        vertical-align: top;\n",
       "    }\n",
       "\n",
       "    .dataframe thead th {\n",
       "        text-align: right;\n",
       "    }\n",
       "</style>\n",
       "<table border=\"1\" class=\"dataframe\">\n",
       "  <thead>\n",
       "    <tr style=\"text-align: right;\">\n",
       "      <th></th>\n",
       "      <th>total_per_value</th>\n",
       "      <th>percentage_no</th>\n",
       "      <th>percentage_yes</th>\n",
       "      <th>%variation_no</th>\n",
       "      <th>%variation_yes</th>\n",
       "    </tr>\n",
       "  </thead>\n",
       "  <tbody>\n",
       "    <tr>\n",
       "      <th>1</th>\n",
       "      <td>4303</td>\n",
       "      <td>0.942</td>\n",
       "      <td>0.058</td>\n",
       "      <td>-0.2</td>\n",
       "      <td>3.6</td>\n",
       "    </tr>\n",
       "    <tr>\n",
       "      <th>2</th>\n",
       "      <td>5578</td>\n",
       "      <td>0.946</td>\n",
       "      <td>0.054</td>\n",
       "      <td>0.2</td>\n",
       "      <td>-3.6</td>\n",
       "    </tr>\n",
       "    <tr>\n",
       "      <th>3</th>\n",
       "      <td>2331</td>\n",
       "      <td>0.943</td>\n",
       "      <td>0.057</td>\n",
       "      <td>-0.1</td>\n",
       "      <td>1.8</td>\n",
       "    </tr>\n",
       "    <tr>\n",
       "      <th>4</th>\n",
       "      <td>371</td>\n",
       "      <td>0.943</td>\n",
       "      <td>0.057</td>\n",
       "      <td>-0.1</td>\n",
       "      <td>1.8</td>\n",
       "    </tr>\n",
       "  </tbody>\n",
       "</table>\n",
       "</div>"
      ],
      "text/plain": [
       "   total_per_value  percentage_no  percentage_yes  %variation_no  \\\n",
       "1             4303          0.942           0.058           -0.2   \n",
       "2             5578          0.946           0.054            0.2   \n",
       "3             2331          0.943           0.057           -0.1   \n",
       "4              371          0.943           0.057           -0.1   \n",
       "\n",
       "   %variation_yes  \n",
       "1             3.6  \n",
       "2            -3.6  \n",
       "3             1.8  \n",
       "4             1.8  "
      ]
     },
     "metadata": {},
     "output_type": "display_data"
    },
    {
     "name": "stdout",
     "output_type": "stream",
     "text": [
      "\n",
      "\n",
      "N homes owned\n"
     ]
    },
    {
     "data": {
      "text/html": [
       "<div>\n",
       "<style scoped>\n",
       "    .dataframe tbody tr th:only-of-type {\n",
       "        vertical-align: middle;\n",
       "    }\n",
       "\n",
       "    .dataframe tbody tr th {\n",
       "        vertical-align: top;\n",
       "    }\n",
       "\n",
       "    .dataframe thead th {\n",
       "        text-align: right;\n",
       "    }\n",
       "</style>\n",
       "<table border=\"1\" class=\"dataframe\">\n",
       "  <thead>\n",
       "    <tr style=\"text-align: right;\">\n",
       "      <th></th>\n",
       "      <th>total_per_value</th>\n",
       "      <th>percentage_no</th>\n",
       "      <th>percentage_yes</th>\n",
       "      <th>%variation_no</th>\n",
       "      <th>%variation_yes</th>\n",
       "    </tr>\n",
       "  </thead>\n",
       "  <tbody>\n",
       "    <tr>\n",
       "      <th>1</th>\n",
       "      <td>10146</td>\n",
       "      <td>0.945</td>\n",
       "      <td>0.055</td>\n",
       "      <td>0.1</td>\n",
       "      <td>-1.8</td>\n",
       "    </tr>\n",
       "    <tr>\n",
       "      <th>2</th>\n",
       "      <td>2303</td>\n",
       "      <td>0.941</td>\n",
       "      <td>0.059</td>\n",
       "      <td>-0.3</td>\n",
       "      <td>5.4</td>\n",
       "    </tr>\n",
       "    <tr>\n",
       "      <th>3</th>\n",
       "      <td>134</td>\n",
       "      <td>0.955</td>\n",
       "      <td>0.045</td>\n",
       "      <td>1.2</td>\n",
       "      <td>-19.7</td>\n",
       "    </tr>\n",
       "  </tbody>\n",
       "</table>\n",
       "</div>"
      ],
      "text/plain": [
       "   total_per_value  percentage_no  percentage_yes  %variation_no  \\\n",
       "1            10146          0.945           0.055            0.1   \n",
       "2             2303          0.941           0.059           -0.3   \n",
       "3              134          0.955           0.045            1.2   \n",
       "\n",
       "   %variation_yes  \n",
       "1            -1.8  \n",
       "2             5.4  \n",
       "3           -19.7  "
      ]
     },
     "metadata": {},
     "output_type": "display_data"
    },
    {
     "name": "stdout",
     "output_type": "stream",
     "text": [
      "\n",
      "\n",
      "Household size\n"
     ]
    },
    {
     "data": {
      "text/html": [
       "<div>\n",
       "<style scoped>\n",
       "    .dataframe tbody tr th:only-of-type {\n",
       "        vertical-align: middle;\n",
       "    }\n",
       "\n",
       "    .dataframe tbody tr th {\n",
       "        vertical-align: top;\n",
       "    }\n",
       "\n",
       "    .dataframe thead th {\n",
       "        text-align: right;\n",
       "    }\n",
       "</style>\n",
       "<table border=\"1\" class=\"dataframe\">\n",
       "  <thead>\n",
       "    <tr style=\"text-align: right;\">\n",
       "      <th></th>\n",
       "      <th>total_per_value</th>\n",
       "      <th>percentage_no</th>\n",
       "      <th>percentage_yes</th>\n",
       "      <th>%variation_no</th>\n",
       "      <th>%variation_yes</th>\n",
       "    </tr>\n",
       "  </thead>\n",
       "  <tbody>\n",
       "    <tr>\n",
       "      <th>1</th>\n",
       "      <td>392</td>\n",
       "      <td>0.921</td>\n",
       "      <td>0.079</td>\n",
       "      <td>-2.4</td>\n",
       "      <td>41.2</td>\n",
       "    </tr>\n",
       "    <tr>\n",
       "      <th>2</th>\n",
       "      <td>1908</td>\n",
       "      <td>0.949</td>\n",
       "      <td>0.051</td>\n",
       "      <td>0.5</td>\n",
       "      <td>-8.9</td>\n",
       "    </tr>\n",
       "    <tr>\n",
       "      <th>3</th>\n",
       "      <td>3971</td>\n",
       "      <td>0.940</td>\n",
       "      <td>0.060</td>\n",
       "      <td>-0.4</td>\n",
       "      <td>7.2</td>\n",
       "    </tr>\n",
       "    <tr>\n",
       "      <th>4</th>\n",
       "      <td>3935</td>\n",
       "      <td>0.945</td>\n",
       "      <td>0.055</td>\n",
       "      <td>0.1</td>\n",
       "      <td>-1.8</td>\n",
       "    </tr>\n",
       "    <tr>\n",
       "      <th>5</th>\n",
       "      <td>2006</td>\n",
       "      <td>0.950</td>\n",
       "      <td>0.050</td>\n",
       "      <td>0.6</td>\n",
       "      <td>-10.7</td>\n",
       "    </tr>\n",
       "    <tr>\n",
       "      <th>6</th>\n",
       "      <td>370</td>\n",
       "      <td>0.954</td>\n",
       "      <td>0.046</td>\n",
       "      <td>1.1</td>\n",
       "      <td>-17.9</td>\n",
       "    </tr>\n",
       "  </tbody>\n",
       "</table>\n",
       "</div>"
      ],
      "text/plain": [
       "   total_per_value  percentage_no  percentage_yes  %variation_no  \\\n",
       "1              392          0.921           0.079           -2.4   \n",
       "2             1908          0.949           0.051            0.5   \n",
       "3             3971          0.940           0.060           -0.4   \n",
       "4             3935          0.945           0.055            0.1   \n",
       "5             2006          0.950           0.050            0.6   \n",
       "6              370          0.954           0.046            1.1   \n",
       "\n",
       "   %variation_yes  \n",
       "1            41.2  \n",
       "2            -8.9  \n",
       "3             7.2  \n",
       "4            -1.8  \n",
       "5           -10.7  \n",
       "6           -17.9  "
      ]
     },
     "metadata": {},
     "output_type": "display_data"
    },
    {
     "name": "stdout",
     "output_type": "stream",
     "text": [
      "\n",
      "\n"
     ]
    }
   ],
   "source": [
    "data = discrete_train\n",
    "data = data.astype(int, errors='ignore')\n",
    "display_target_per_discrete(data.iloc[:,:], y_train) "
   ]
  },
  {
   "cell_type": "markdown",
   "id": "c6b71d1e",
   "metadata": {},
   "source": [
    "### 1.7 Cheking Categorical Data"
   ]
  },
  {
   "cell_type": "code",
   "execution_count": 44,
   "id": "a9599e84",
   "metadata": {},
   "outputs": [],
   "source": [
    "data = categorical_train"
   ]
  },
  {
   "cell_type": "code",
   "execution_count": 47,
   "id": "b040fa97",
   "metadata": {
    "scrolled": false
   },
   "outputs": [
    {
     "name": "stdout",
     "output_type": "stream",
     "text": [
      "Reward\n"
     ]
    },
    {
     "data": {
      "text/html": [
       "<div>\n",
       "<style scoped>\n",
       "    .dataframe tbody tr th:only-of-type {\n",
       "        vertical-align: middle;\n",
       "    }\n",
       "\n",
       "    .dataframe tbody tr th {\n",
       "        vertical-align: top;\n",
       "    }\n",
       "\n",
       "    .dataframe thead th {\n",
       "        text-align: right;\n",
       "    }\n",
       "</style>\n",
       "<table border=\"1\" class=\"dataframe\">\n",
       "  <thead>\n",
       "    <tr style=\"text-align: right;\">\n",
       "      <th></th>\n",
       "      <th>total_per_value</th>\n",
       "      <th>percentage_no</th>\n",
       "      <th>percentage_yes</th>\n",
       "      <th>%variation_no</th>\n",
       "      <th>%variation_yes</th>\n",
       "    </tr>\n",
       "  </thead>\n",
       "  <tbody>\n",
       "    <tr>\n",
       "      <th>Air Miles</th>\n",
       "      <td>4237</td>\n",
       "      <td>0.926</td>\n",
       "      <td>0.074</td>\n",
       "      <td>-1.9</td>\n",
       "      <td>32.2</td>\n",
       "    </tr>\n",
       "    <tr>\n",
       "      <th>Cash Back</th>\n",
       "      <td>4169</td>\n",
       "      <td>0.965</td>\n",
       "      <td>0.035</td>\n",
       "      <td>2.2</td>\n",
       "      <td>-37.6</td>\n",
       "    </tr>\n",
       "    <tr>\n",
       "      <th>Points</th>\n",
       "      <td>4177</td>\n",
       "      <td>0.941</td>\n",
       "      <td>0.059</td>\n",
       "      <td>-0.3</td>\n",
       "      <td>5.4</td>\n",
       "    </tr>\n",
       "  </tbody>\n",
       "</table>\n",
       "</div>"
      ],
      "text/plain": [
       "           total_per_value  percentage_no  percentage_yes  %variation_no  \\\n",
       "Air Miles             4237          0.926           0.074           -1.9   \n",
       "Cash Back             4169          0.965           0.035            2.2   \n",
       "Points                4177          0.941           0.059           -0.3   \n",
       "\n",
       "           %variation_yes  \n",
       "Air Miles            32.2  \n",
       "Cash Back           -37.6  \n",
       "Points                5.4  "
      ]
     },
     "metadata": {},
     "output_type": "display_data"
    },
    {
     "name": "stdout",
     "output_type": "stream",
     "text": [
      "\n",
      "\n",
      "Mailer type\n"
     ]
    },
    {
     "data": {
      "text/html": [
       "<div>\n",
       "<style scoped>\n",
       "    .dataframe tbody tr th:only-of-type {\n",
       "        vertical-align: middle;\n",
       "    }\n",
       "\n",
       "    .dataframe tbody tr th {\n",
       "        vertical-align: top;\n",
       "    }\n",
       "\n",
       "    .dataframe thead th {\n",
       "        text-align: right;\n",
       "    }\n",
       "</style>\n",
       "<table border=\"1\" class=\"dataframe\">\n",
       "  <thead>\n",
       "    <tr style=\"text-align: right;\">\n",
       "      <th></th>\n",
       "      <th>total_per_value</th>\n",
       "      <th>percentage_no</th>\n",
       "      <th>percentage_yes</th>\n",
       "      <th>%variation_no</th>\n",
       "      <th>%variation_yes</th>\n",
       "    </tr>\n",
       "  </thead>\n",
       "  <tbody>\n",
       "    <tr>\n",
       "      <th>Letter</th>\n",
       "      <td>6234</td>\n",
       "      <td>0.968</td>\n",
       "      <td>0.032</td>\n",
       "      <td>2.5</td>\n",
       "      <td>-43.0</td>\n",
       "    </tr>\n",
       "    <tr>\n",
       "      <th>Postcard</th>\n",
       "      <td>6349</td>\n",
       "      <td>0.921</td>\n",
       "      <td>0.079</td>\n",
       "      <td>-2.4</td>\n",
       "      <td>41.2</td>\n",
       "    </tr>\n",
       "  </tbody>\n",
       "</table>\n",
       "</div>"
      ],
      "text/plain": [
       "          total_per_value  percentage_no  percentage_yes  %variation_no  \\\n",
       "Letter               6234          0.968           0.032            2.5   \n",
       "Postcard             6349          0.921           0.079           -2.4   \n",
       "\n",
       "          %variation_yes  \n",
       "Letter             -43.0  \n",
       "Postcard            41.2  "
      ]
     },
     "metadata": {},
     "output_type": "display_data"
    },
    {
     "name": "stdout",
     "output_type": "stream",
     "text": [
      "\n",
      "\n",
      "Income level\n"
     ]
    },
    {
     "data": {
      "text/html": [
       "<div>\n",
       "<style scoped>\n",
       "    .dataframe tbody tr th:only-of-type {\n",
       "        vertical-align: middle;\n",
       "    }\n",
       "\n",
       "    .dataframe tbody tr th {\n",
       "        vertical-align: top;\n",
       "    }\n",
       "\n",
       "    .dataframe thead th {\n",
       "        text-align: right;\n",
       "    }\n",
       "</style>\n",
       "<table border=\"1\" class=\"dataframe\">\n",
       "  <thead>\n",
       "    <tr style=\"text-align: right;\">\n",
       "      <th></th>\n",
       "      <th>total_per_value</th>\n",
       "      <th>percentage_no</th>\n",
       "      <th>percentage_yes</th>\n",
       "      <th>%variation_no</th>\n",
       "      <th>%variation_yes</th>\n",
       "    </tr>\n",
       "  </thead>\n",
       "  <tbody>\n",
       "    <tr>\n",
       "      <th>High</th>\n",
       "      <td>3174</td>\n",
       "      <td>0.963</td>\n",
       "      <td>0.037</td>\n",
       "      <td>2.0</td>\n",
       "      <td>-34.0</td>\n",
       "    </tr>\n",
       "    <tr>\n",
       "      <th>Low</th>\n",
       "      <td>3104</td>\n",
       "      <td>0.917</td>\n",
       "      <td>0.083</td>\n",
       "      <td>-2.9</td>\n",
       "      <td>48.3</td>\n",
       "    </tr>\n",
       "    <tr>\n",
       "      <th>Medium</th>\n",
       "      <td>6305</td>\n",
       "      <td>0.948</td>\n",
       "      <td>0.052</td>\n",
       "      <td>0.4</td>\n",
       "      <td>-7.2</td>\n",
       "    </tr>\n",
       "  </tbody>\n",
       "</table>\n",
       "</div>"
      ],
      "text/plain": [
       "        total_per_value  percentage_no  percentage_yes  %variation_no  \\\n",
       "High               3174          0.963           0.037            2.0   \n",
       "Low                3104          0.917           0.083           -2.9   \n",
       "Medium             6305          0.948           0.052            0.4   \n",
       "\n",
       "        %variation_yes  \n",
       "High             -34.0  \n",
       "Low               48.3  \n",
       "Medium            -7.2  "
      ]
     },
     "metadata": {},
     "output_type": "display_data"
    },
    {
     "name": "stdout",
     "output_type": "stream",
     "text": [
      "\n",
      "\n",
      "Overdraft protection\n"
     ]
    },
    {
     "data": {
      "text/html": [
       "<div>\n",
       "<style scoped>\n",
       "    .dataframe tbody tr th:only-of-type {\n",
       "        vertical-align: middle;\n",
       "    }\n",
       "\n",
       "    .dataframe tbody tr th {\n",
       "        vertical-align: top;\n",
       "    }\n",
       "\n",
       "    .dataframe thead th {\n",
       "        text-align: right;\n",
       "    }\n",
       "</style>\n",
       "<table border=\"1\" class=\"dataframe\">\n",
       "  <thead>\n",
       "    <tr style=\"text-align: right;\">\n",
       "      <th></th>\n",
       "      <th>total_per_value</th>\n",
       "      <th>percentage_no</th>\n",
       "      <th>percentage_yes</th>\n",
       "      <th>%variation_no</th>\n",
       "      <th>%variation_yes</th>\n",
       "    </tr>\n",
       "  </thead>\n",
       "  <tbody>\n",
       "    <tr>\n",
       "      <th>No</th>\n",
       "      <td>10668</td>\n",
       "      <td>0.944</td>\n",
       "      <td>0.056</td>\n",
       "      <td>-0.0</td>\n",
       "      <td>0.0</td>\n",
       "    </tr>\n",
       "    <tr>\n",
       "      <th>Yes</th>\n",
       "      <td>1915</td>\n",
       "      <td>0.946</td>\n",
       "      <td>0.054</td>\n",
       "      <td>0.2</td>\n",
       "      <td>-3.6</td>\n",
       "    </tr>\n",
       "  </tbody>\n",
       "</table>\n",
       "</div>"
      ],
      "text/plain": [
       "     total_per_value  percentage_no  percentage_yes  %variation_no  \\\n",
       "No             10668          0.944           0.056           -0.0   \n",
       "Yes             1915          0.946           0.054            0.2   \n",
       "\n",
       "     %variation_yes  \n",
       "No              0.0  \n",
       "Yes            -3.6  "
      ]
     },
     "metadata": {},
     "output_type": "display_data"
    },
    {
     "name": "stdout",
     "output_type": "stream",
     "text": [
      "\n",
      "\n",
      "Credit rating\n"
     ]
    },
    {
     "data": {
      "text/html": [
       "<div>\n",
       "<style scoped>\n",
       "    .dataframe tbody tr th:only-of-type {\n",
       "        vertical-align: middle;\n",
       "    }\n",
       "\n",
       "    .dataframe tbody tr th {\n",
       "        vertical-align: top;\n",
       "    }\n",
       "\n",
       "    .dataframe thead th {\n",
       "        text-align: right;\n",
       "    }\n",
       "</style>\n",
       "<table border=\"1\" class=\"dataframe\">\n",
       "  <thead>\n",
       "    <tr style=\"text-align: right;\">\n",
       "      <th></th>\n",
       "      <th>total_per_value</th>\n",
       "      <th>percentage_no</th>\n",
       "      <th>percentage_yes</th>\n",
       "      <th>%variation_no</th>\n",
       "      <th>%variation_yes</th>\n",
       "    </tr>\n",
       "  </thead>\n",
       "  <tbody>\n",
       "    <tr>\n",
       "      <th>High</th>\n",
       "      <td>4241</td>\n",
       "      <td>0.980</td>\n",
       "      <td>0.020</td>\n",
       "      <td>3.8</td>\n",
       "      <td>-64.4</td>\n",
       "    </tr>\n",
       "    <tr>\n",
       "      <th>Low</th>\n",
       "      <td>4148</td>\n",
       "      <td>0.897</td>\n",
       "      <td>0.103</td>\n",
       "      <td>-5.0</td>\n",
       "      <td>84.1</td>\n",
       "    </tr>\n",
       "    <tr>\n",
       "      <th>Medium</th>\n",
       "      <td>4194</td>\n",
       "      <td>0.955</td>\n",
       "      <td>0.045</td>\n",
       "      <td>1.2</td>\n",
       "      <td>-19.7</td>\n",
       "    </tr>\n",
       "  </tbody>\n",
       "</table>\n",
       "</div>"
      ],
      "text/plain": [
       "        total_per_value  percentage_no  percentage_yes  %variation_no  \\\n",
       "High               4241          0.980           0.020            3.8   \n",
       "Low                4148          0.897           0.103           -5.0   \n",
       "Medium             4194          0.955           0.045            1.2   \n",
       "\n",
       "        %variation_yes  \n",
       "High             -64.4  \n",
       "Low               84.1  \n",
       "Medium           -19.7  "
      ]
     },
     "metadata": {},
     "output_type": "display_data"
    },
    {
     "name": "stdout",
     "output_type": "stream",
     "text": [
      "\n",
      "\n",
      "Own your home\n"
     ]
    },
    {
     "data": {
      "text/html": [
       "<div>\n",
       "<style scoped>\n",
       "    .dataframe tbody tr th:only-of-type {\n",
       "        vertical-align: middle;\n",
       "    }\n",
       "\n",
       "    .dataframe tbody tr th {\n",
       "        vertical-align: top;\n",
       "    }\n",
       "\n",
       "    .dataframe thead th {\n",
       "        text-align: right;\n",
       "    }\n",
       "</style>\n",
       "<table border=\"1\" class=\"dataframe\">\n",
       "  <thead>\n",
       "    <tr style=\"text-align: right;\">\n",
       "      <th></th>\n",
       "      <th>total_per_value</th>\n",
       "      <th>percentage_no</th>\n",
       "      <th>percentage_yes</th>\n",
       "      <th>%variation_no</th>\n",
       "      <th>%variation_yes</th>\n",
       "    </tr>\n",
       "  </thead>\n",
       "  <tbody>\n",
       "    <tr>\n",
       "      <th>No</th>\n",
       "      <td>4446</td>\n",
       "      <td>0.944</td>\n",
       "      <td>0.056</td>\n",
       "      <td>-0.0</td>\n",
       "      <td>0.0</td>\n",
       "    </tr>\n",
       "    <tr>\n",
       "      <th>Yes</th>\n",
       "      <td>8137</td>\n",
       "      <td>0.944</td>\n",
       "      <td>0.056</td>\n",
       "      <td>-0.0</td>\n",
       "      <td>0.0</td>\n",
       "    </tr>\n",
       "  </tbody>\n",
       "</table>\n",
       "</div>"
      ],
      "text/plain": [
       "     total_per_value  percentage_no  percentage_yes  %variation_no  \\\n",
       "No              4446          0.944           0.056           -0.0   \n",
       "Yes             8137          0.944           0.056           -0.0   \n",
       "\n",
       "     %variation_yes  \n",
       "No              0.0  \n",
       "Yes             0.0  "
      ]
     },
     "metadata": {},
     "output_type": "display_data"
    },
    {
     "name": "stdout",
     "output_type": "stream",
     "text": [
      "\n",
      "\n"
     ]
    }
   ],
   "source": [
    "display_target_per_discrete(data, y_train) "
   ]
  },
  {
   "cell_type": "markdown",
   "id": "d326dae8",
   "metadata": {},
   "source": [
    "It can be seen here three **types of distribution**: \n",
    "1) There are columns where the distribution is **balanced** (**reward, mailer_type, credit_rating**)\n",
    "<br>2) Columns where there is a **mild imbalance** ( **income level, own_your_home**)\n",
    "<br>3) Columns where there is **a lot of imbalance** (**overdraft_protection**)"
   ]
  },
  {
   "cell_type": "code",
   "execution_count": 46,
   "id": "8688d1ff",
   "metadata": {
    "scrolled": true
   },
   "outputs": [
    {
     "data": {
      "text/plain": [
       "own_your_home  offer_accepted\n",
       "Yes            No                7683\n",
       "No             No                4197\n",
       "Yes            Yes                454\n",
       "No             Yes                249\n",
       "dtype: int64"
      ]
     },
     "execution_count": 46,
     "metadata": {},
     "output_type": "execute_result"
    }
   ],
   "source": [
    "pd.concat([data.own_your_home, y_train],axis=1).value_counts()"
   ]
  },
  {
   "cell_type": "markdown",
   "id": "d4d146da",
   "metadata": {},
   "source": [
    "As weird as it may look, the results from **Own your homes** are **correct**. The data values of the offer accepted or rejected are not different if the customer **owns or not** a home."
   ]
  },
  {
   "cell_type": "markdown",
   "id": "98c4621b",
   "metadata": {},
   "source": [
    "There are some pre-conclusions that can be taken from here: <br>\n",
    "    <br> 1) **Owning a house** or having an **overdraft protection** seems to have little impact on wether someone is more or less likely to accept a credi card offer.\n",
    "    <br> 2) Having a **low credit rating** and a **low income level** seems to make people more likely to accept an offer from a credt card. This could be because of many reasons: probably because a person with a **high credit rating** already has a credit card (maybe he/she is just older)\n",
    "    <br> 3) Customers that recieve by **postcard** are more likely to accept an offer than **by mail**.\n",
    "    <br> 4) Customers that receive **Air Miles** as rewards are more likely to accept an offer than people whos reward was cash back. \n",
    "    <br> 5) It is possible that this data is just showing that **older people** may already have a card **somewhere else** and they just **don't want another card**."
   ]
  },
  {
   "cell_type": "markdown",
   "id": "875a62ba",
   "metadata": {},
   "source": [
    "## 2. Classification Models"
   ]
  },
  {
   "cell_type": "markdown",
   "id": "5f55aa9f",
   "metadata": {},
   "source": [
    "### 2.1 Base Classification Model"
   ]
  },
  {
   "cell_type": "markdown",
   "id": "c9f7f2ea",
   "metadata": {},
   "source": [
    "So the first thing it would be done is a **simple model** using a **Logistic Classification** an a **single column** (encoded using a one hot encoder) to have a general idea of the kind of performance we are aiming for."
   ]
  },
  {
   "cell_type": "code",
   "execution_count": 157,
   "id": "4a4b213e",
   "metadata": {},
   "outputs": [],
   "source": [
    "## Encodind the features for the Ridge Classifier.\n",
    "\n",
    "## I use this list and reshape to get the single feature ready to feed the model.\n",
    "X_train_list = np.array(X_train.mailer_type).reshape(-1,1)\n",
    "X_test_list = np.array(X_test.mailer_type).reshape(-1,1)\n",
    "\n",
    "encoder = OneHotEncoder(drop='first').fit(X_train_list)\n",
    "encoded_X_train = encoder.transform(X_train_list)\n",
    "encoded_X_test = encoder.transform(X_test_list)"
   ]
  },
  {
   "cell_type": "code",
   "execution_count": 173,
   "id": "7f5ce77f",
   "metadata": {
    "scrolled": true
   },
   "outputs": [
    {
     "name": "stdout",
     "output_type": "stream",
     "text": [
      "[[5075    0]\n",
      " [ 318    0]]\n"
     ]
    }
   ],
   "source": [
    "lrg = LogisticRegression().fit(encoded_X_train, y_train)\n",
    "predictions = lrg.predict(encoded_X_test)\n",
    "print(np.array(confusion_matrix(y_test, predictions)))"
   ]
  },
  {
   "cell_type": "code",
   "execution_count": 175,
   "id": "febcad93",
   "metadata": {},
   "outputs": [
    {
     "name": "stdout",
     "output_type": "stream",
     "text": [
      "[[5075    0]\n",
      " [ 318    0]]\n"
     ]
    }
   ],
   "source": [
    "lrg = LogisticRegression().fit(continuous_train, y_train)\n",
    "predictions = lrg.predict(continuous_test)\n",
    "print(np.array(confusion_matrix(y_test, predictions)))"
   ]
  },
  {
   "cell_type": "code",
   "execution_count": 161,
   "id": "229f330c",
   "metadata": {},
   "outputs": [
    {
     "name": "stderr",
     "output_type": "stream",
     "text": [
      "/Users/sebastianvier/opt/anaconda3/lib/python3.8/site-packages/sklearn/preprocessing/_encoders.py:170: UserWarning: Found unknown categories in columns [3] during transform. These unknown categories will be encoded as all zeros\n",
      "  warnings.warn(\n"
     ]
    }
   ],
   "source": [
    "encoder = OneHotEncoder(drop='first', handle_unknown='ignore').fit(discrete_train)\n",
    "encoded_X_train = encoder.transform(discrete_train)\n",
    "encoded_X_test = encoder.transform(discrete_test)"
   ]
  },
  {
   "cell_type": "code",
   "execution_count": 178,
   "id": "cc6a8691",
   "metadata": {},
   "outputs": [
    {
     "name": "stdout",
     "output_type": "stream",
     "text": [
      "[[5075    0]\n",
      " [ 318    0]]\n"
     ]
    }
   ],
   "source": [
    "lrg = LogisticRegression().fit(encoded_X_train, y_train)\n",
    "predictions = lrg.predict(encoded_X_test)\n",
    "print(np.array(confusion_matrix(y_test, predictions)))"
   ]
  },
  {
   "cell_type": "code",
   "execution_count": 191,
   "id": "07aac959",
   "metadata": {
    "scrolled": true
   },
   "outputs": [
    {
     "data": {
      "text/html": [
       "<div>\n",
       "<style scoped>\n",
       "    .dataframe tbody tr th:only-of-type {\n",
       "        vertical-align: middle;\n",
       "    }\n",
       "\n",
       "    .dataframe tbody tr th {\n",
       "        vertical-align: top;\n",
       "    }\n",
       "\n",
       "    .dataframe thead th {\n",
       "        text-align: right;\n",
       "    }\n",
       "</style>\n",
       "<table border=\"1\" class=\"dataframe\">\n",
       "  <thead>\n",
       "    <tr style=\"text-align: right;\">\n",
       "      <th></th>\n",
       "      <th>0</th>\n",
       "      <th>1</th>\n",
       "    </tr>\n",
       "  </thead>\n",
       "  <tbody>\n",
       "    <tr>\n",
       "      <th>count</th>\n",
       "      <td>12583.000000</td>\n",
       "      <td>12583.000000</td>\n",
       "    </tr>\n",
       "    <tr>\n",
       "      <th>mean</th>\n",
       "      <td>0.944130</td>\n",
       "      <td>0.055870</td>\n",
       "    </tr>\n",
       "    <tr>\n",
       "      <th>std</th>\n",
       "      <td>0.006029</td>\n",
       "      <td>0.006029</td>\n",
       "    </tr>\n",
       "    <tr>\n",
       "      <th>min</th>\n",
       "      <td>0.917175</td>\n",
       "      <td>0.033268</td>\n",
       "    </tr>\n",
       "    <tr>\n",
       "      <th>25%</th>\n",
       "      <td>0.941841</td>\n",
       "      <td>0.052216</td>\n",
       "    </tr>\n",
       "    <tr>\n",
       "      <th>50%</th>\n",
       "      <td>0.944408</td>\n",
       "      <td>0.055592</td>\n",
       "    </tr>\n",
       "    <tr>\n",
       "      <th>75%</th>\n",
       "      <td>0.947784</td>\n",
       "      <td>0.058159</td>\n",
       "    </tr>\n",
       "    <tr>\n",
       "      <th>max</th>\n",
       "      <td>0.966732</td>\n",
       "      <td>0.082825</td>\n",
       "    </tr>\n",
       "  </tbody>\n",
       "</table>\n",
       "</div>"
      ],
      "text/plain": [
       "                  0             1\n",
       "count  12583.000000  12583.000000\n",
       "mean       0.944130      0.055870\n",
       "std        0.006029      0.006029\n",
       "min        0.917175      0.033268\n",
       "25%        0.941841      0.052216\n",
       "50%        0.944408      0.055592\n",
       "75%        0.947784      0.058159\n",
       "max        0.966732      0.082825"
      ]
     },
     "execution_count": 191,
     "metadata": {},
     "output_type": "execute_result"
    }
   ],
   "source": [
    "pd.DataFrame(lrg.predict_proba(encoded_X_train)).describe()"
   ]
  },
  {
   "cell_type": "markdown",
   "id": "b2137eab",
   "metadata": {},
   "source": [
    "My take on all this is that the data is so unbalance that it is impossible to get any results that will not be confused with noise."
   ]
  },
  {
   "cell_type": "markdown",
   "id": "a1e16fe2",
   "metadata": {},
   "source": [
    "### 2.3. Applying SMOTE before fitting the model"
   ]
  },
  {
   "cell_type": "code",
   "execution_count": 195,
   "id": "03fee240",
   "metadata": {},
   "outputs": [],
   "source": [
    "sm = SMOTE(random_state=42)\n",
    "X_res, y_res = sm.fit_resample(continuous_train, y_train)"
   ]
  },
  {
   "cell_type": "code",
   "execution_count": 198,
   "id": "a457dd55",
   "metadata": {
    "scrolled": true
   },
   "outputs": [
    {
     "data": {
      "text/plain": [
       "No     11880\n",
       "Yes    11880\n",
       "Name: offer_accepted, dtype: int64"
      ]
     },
     "execution_count": 198,
     "metadata": {},
     "output_type": "execute_result"
    }
   ],
   "source": [
    "y_res.value_counts()"
   ]
  },
  {
   "cell_type": "code",
   "execution_count": 200,
   "id": "2808c42a",
   "metadata": {
    "scrolled": true
   },
   "outputs": [
    {
     "name": "stdout",
     "output_type": "stream",
     "text": [
      "[[3135 1940]\n",
      " [ 185  133]]\n"
     ]
    }
   ],
   "source": [
    "lrg = LogisticRegression().fit(X_res, y_res)\n",
    "predictions = lrg.predict(continuous_test)\n",
    "print(np.array(confusion_matrix(y_test, predictions)))"
   ]
  },
  {
   "cell_type": "code",
   "execution_count": 210,
   "id": "d978918f",
   "metadata": {},
   "outputs": [
    {
     "name": "stdout",
     "output_type": "stream",
     "text": [
      "[[3301 1774]\n",
      " [ 198  120]]\n"
     ]
    }
   ],
   "source": [
    "sm = SMOTE(random_state=42, k_neighbors=10)\n",
    "X_res, y_res = sm.fit_resample(continuous_train, y_train)\n",
    "lrg = LogisticRegression().fit(X_res, y_res)\n",
    "predictions = lrg.predict(continuous_test)\n",
    "print(np.array(confusion_matrix(y_test, predictions)))"
   ]
  },
  {
   "cell_type": "markdown",
   "id": "66b11a61",
   "metadata": {},
   "source": [
    "### 2.2 Applying Tomek Links before fitting the Model"
   ]
  },
  {
   "cell_type": "code",
   "execution_count": 449,
   "id": "0dbd4535",
   "metadata": {
    "scrolled": true
   },
   "outputs": [
    {
     "name": "stderr",
     "output_type": "stream",
     "text": [
      "/Users/sebastianvier/opt/anaconda3/lib/python3.8/site-packages/sklearn/preprocessing/_encoders.py:170: UserWarning: Found unknown categories in columns [8] during transform. These unknown categories will be encoded as all zeros\n",
      "  warnings.warn(\n"
     ]
    },
    {
     "name": "stdout",
     "output_type": "stream",
     "text": [
      "[[5592    0]\n",
      " [ 341    0]]\n"
     ]
    }
   ],
   "source": [
    "## Full data\n",
    "array = X.columns\n",
    "X_train, X_test, y_train, y_test = prepare_data_pipe(X,target,array, b_method='tomeklinks')\n",
    "lrg = LogisticRegression().fit(X_train, y_train)\n",
    "predictions = lrg.predict(X_test)\n",
    "print(np.array(confusion_matrix(y_test, predictions)))"
   ]
  },
  {
   "cell_type": "code",
   "execution_count": 459,
   "id": "840aedc2",
   "metadata": {},
   "outputs": [
    {
     "name": "stderr",
     "output_type": "stream",
     "text": [
      "/Users/sebastianvier/opt/anaconda3/lib/python3.8/site-packages/sklearn/preprocessing/_encoders.py:170: UserWarning: Found unknown categories in columns [7] during transform. These unknown categories will be encoded as all zeros\n",
      "  warnings.warn(\n"
     ]
    },
    {
     "name": "stdout",
     "output_type": "stream",
     "text": [
      "[[5592    0]\n",
      " [ 341    0]]\n"
     ]
    }
   ],
   "source": [
    "## Droping on continuous and discrete\n",
    "array = X.columns.drop(['average_balance', 'n_credit_cards_held'])\n",
    "X_train, X_test, y_train, y_test = prepare_data_pipe(X,target,array, b_method='tomeklinks')\n",
    "lrg = LogisticRegression().fit(X_train, y_train)\n",
    "predictions = lrg.predict(X_test)\n",
    "print(np.array(confusion_matrix(y_test, predictions)))"
   ]
  },
  {
   "cell_type": "markdown",
   "id": "c4db9fc3",
   "metadata": {},
   "source": [
    "### 2.2 Applying SMOTE  before fitting the Model"
   ]
  },
  {
   "cell_type": "code",
   "execution_count": 448,
   "id": "d9ae0315",
   "metadata": {
    "scrolled": true
   },
   "outputs": [
    {
     "name": "stdout",
     "output_type": "stream",
     "text": [
      "[[3835 1757]\n",
      " [  97  244]]\n"
     ]
    },
    {
     "name": "stderr",
     "output_type": "stream",
     "text": [
      "/Users/sebastianvier/opt/anaconda3/lib/python3.8/site-packages/sklearn/preprocessing/_encoders.py:170: UserWarning: Found unknown categories in columns [8] during transform. These unknown categories will be encoded as all zeros\n",
      "  warnings.warn(\n"
     ]
    }
   ],
   "source": [
    "## Full data\n",
    "X_train, X_test, y_train, y_test = prepare_data_pipe(X,target,array, b_method='smote')\n",
    "\n",
    "lrg = LogisticRegression().fit(X_train, y_train)\n",
    "predictions = lrg.predict(X_test)\n",
    "print(np.array(confusion_matrix(y_test, predictions)))"
   ]
  },
  {
   "cell_type": "code",
   "execution_count": 460,
   "id": "2debab5a",
   "metadata": {},
   "outputs": [
    {
     "name": "stdout",
     "output_type": "stream",
     "text": [
      "[[3800 1792]\n",
      " [  92  249]]\n"
     ]
    },
    {
     "name": "stderr",
     "output_type": "stream",
     "text": [
      "/Users/sebastianvier/opt/anaconda3/lib/python3.8/site-packages/sklearn/preprocessing/_encoders.py:170: UserWarning: Found unknown categories in columns [7] during transform. These unknown categories will be encoded as all zeros\n",
      "  warnings.warn(\n"
     ]
    }
   ],
   "source": [
    "array = X.columns.drop(['average_balance', 'n_credit_cards_held'])\n",
    "X_train, X_test, y_train, y_test = prepare_data_pipe(X,target,array, b_method='smote')\n",
    "lrg = LogisticRegression().fit(X_train, y_train)\n",
    "predictions = lrg.predict(X_test)\n",
    "print(np.array(confusion_matrix(y_test, predictions)))"
   ]
  },
  {
   "cell_type": "code",
   "execution_count": 467,
   "id": "7cd5e289",
   "metadata": {},
   "outputs": [
    {
     "name": "stdout",
     "output_type": "stream",
     "text": [
      "[[3232 1523]\n",
      " [  85  194]]\n"
     ]
    }
   ],
   "source": [
    "array = X.columns.drop(['average_balance', 'n_credit_cards_held'])\n",
    "X_train, X_test, y_train, y_test = prepare_data_pipe(X,target,array, b_method='smote', test_size=.28, split_seed=10)\n",
    "lrg = LogisticRegression().fit(X_train, y_train)\n",
    "predictions = lrg.predict(X_test)\n",
    "print(np.array(confusion_matrix(y_test, predictions)))"
   ]
  }
 ],
 "metadata": {
  "kernelspec": {
   "display_name": "Python 3",
   "language": "python",
   "name": "python3"
  },
  "language_info": {
   "codemirror_mode": {
    "name": "ipython",
    "version": 3
   },
   "file_extension": ".py",
   "mimetype": "text/x-python",
   "name": "python",
   "nbconvert_exporter": "python",
   "pygments_lexer": "ipython3",
   "version": "3.8.8"
  }
 },
 "nbformat": 4,
 "nbformat_minor": 5
}
