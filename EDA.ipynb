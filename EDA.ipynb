{
 "cells": [
  {
   "cell_type": "code",
   "execution_count": 452,
   "id": "e1e1eda6",
   "metadata": {},
   "outputs": [],
   "source": [
    "## Common Python modules\n",
    "import math, sys\n",
    "# import warnings\n",
    "# warnings.filterwarnings(\"ignore\", category=FutureWarning)\n",
    "\n",
    "## EDA Libraries\n",
    "import pandas as pd\n",
    "import numpy as np\n",
    "import matplotlib.pyplot as plt\n",
    "import seaborn as sns\n",
    "%matplotlib inline\n",
    "\n",
    "## Libraries for models\n",
    "from sklearn.model_selection import train_test_split\n",
    "from sklearn.preprocessing import StandardScaler, OneHotEncoder"
   ]
  },
  {
   "cell_type": "code",
   "execution_count": 453,
   "id": "a737d6f3",
   "metadata": {},
   "outputs": [],
   "source": [
    "## Importing the data\n",
    "path = 'data/creditcardmarketing.xlsx'\n",
    "df = pd.read_excel(path)\n",
    "df.columns = [i.lower().replace(' ','_').replace('#', 'n') for i in df.columns]\n",
    "df = df.drop('customer_number', axis=1)"
   ]
  },
  {
   "cell_type": "code",
   "execution_count": 544,
   "id": "b49d88a7",
   "metadata": {},
   "outputs": [],
   "source": [
    "## functions (this could then stored in another python file)\n",
    "\n",
    "def get_outliers_index_categorical(df, threshold=0.02):\n",
    "\n",
    "    def outlier_values_generator(value_counts_serie, threshold=threshold):\n",
    "    ## yields a value from the counts if \n",
    "        serie = value_counts_serie\n",
    "        for i in range(len(serie)):\n",
    "            if serie.values[i] < serie.sum() * threshold:\n",
    "                ## yield if the value_counts is lower than the threshold\n",
    "                ## threshold * sum() == total_values for that percentage: 10% of 1000 => 100\n",
    "                print(f'''{serie.values[i]} outliers found for the value \"\"{serie.index[i]}\" in {column_name}''')\n",
    "                \n",
    "                yield value_counts_serie.index[i]\n",
    "            \n",
    "    \n",
    "    for column_name in df:\n",
    "        column = data[column_name] ## Easier to call later\n",
    "        vc_serie = column.value_counts() ## Get the value counts dataframe\n",
    "\n",
    "        arr = [i for i in outlier_values_generator(vc_serie)]\n",
    "        result = (column[column.isin(arr)].index)\n",
    "        ## Get the index when the value is in the array I got.\n",
    "        ## is in is similar to serie[serie==value] => but uses an array for computation instead.\n",
    "        yield result   \n",
    "\n",
    "def get_outliers_index_iqr(column, threshold=1.5):\n",
    "    \n",
    "    q1 = np.percentile(column, 25)\n",
    "    q3 = np.percentile(column, 75)\n",
    "    iqr = abs(q3-q1)\n",
    "    \n",
    "    condition1 = column > q3 + iqr * threshold\n",
    "    condition2 = column > q1 - iqr * threshold\n",
    "    \n",
    "    result = column[condition1 & condition2].index\n",
    "    return result\n",
    "\n",
    "def get_pairs(n_rows, n_cols):\n",
    "    '''Gives you pairs for ploting subploting with an iteration'''\n",
    "    for i in range(n_rows):\n",
    "        for j in range(n_cols):\n",
    "            yield(i,j)\n",
    "            ## This yielding may look strange \n",
    "            ## but is the only way I found to later\n",
    "            ## pass the code to the axes.\n",
    "\n",
    "\n",
    "def n_outliers(df, column_name):\n",
    "    q1 = np.percentile(df[column_name], 25)\n",
    "    q3 = np.percentile(df[column_name], 75)\n",
    "    iqr = abs(q3 - q1)\n",
    "    \n",
    "    lower = df[column_name][df[column_name] < q1 - 1.5 * iqr]\n",
    "    higher = df[column_name][df[column_name] > q3 + 1.5 * iqr]\n",
    "    \n",
    "    n_lower = len(lower)\n",
    "    n_higher = len(higher)\n",
    "    n_total = len(lower) + len(higher)\n",
    "    \n",
    "    \n",
    "    array = np.array([n_lower, round(n_lower/len(df),3) , round(q1 - 1.5 * iqr,2), \n",
    "                      n_higher, round(n_higher/len(df),3),  round(q3 + 1.5 * iqr,3),\n",
    "                      n_total, round(n_total/len(df),3) ,'none']).reshape(3,3)\n",
    "    \n",
    "    result = pd.DataFrame(data=array, index=['Lower Higher Total'.split(' ')], columns=['Counts', 'Percentage',\n",
    "                                                                                        'Threshold'])\n",
    "    return result\n",
    "\n",
    "\n",
    "def print_target_per_discrete(data): \n",
    "    \n",
    "    ## Variables used in all the columns\n",
    "    total_percentage_no = data.iloc[:,-1].value_counts()['No'] / len(data)\n",
    "    total_percentage_yes = data.iloc[:,-1].value_counts()['Yes'] / len(data)\n",
    "    \n",
    "    def get_value_tuples(data, column_name):\n",
    "        unique_values = sorted(data[column_name].unique())\n",
    "        column = data[column_name]\n",
    "        \n",
    "\n",
    "        for value in unique_values:\n",
    "            v_counts = data[column == value].offer_accepted.value_counts()\n",
    "            total = v_counts.sum()\n",
    "\n",
    "            ## Get the percentages per value_count\n",
    "            if len(v_counts) == 2: # Because you could have the case that there is no value in one of them.\n",
    "                percentage_no = round(v_counts['No'] / total ,3)\n",
    "                percentage_yes = round(v_counts['Yes'] / total, 3)\n",
    "                \n",
    "                \n",
    "                variation_no = round(percentage_no - total_percentage_no, 3)\n",
    "                variation_yes = round(percentage_yes - total_percentage_yes, 3)\n",
    "                \n",
    "                \n",
    "                variation_percentage_no = round((variation_no / total_percentage_no),3) * 100\n",
    "                variation_percentage_yes = round((variation_yes / total_percentage_yes),3) * 100\n",
    "                               \n",
    "                \n",
    "                tup = (total, percentage_no, percentage_yes,\n",
    "                       variation_percentage_no, variation_percentage_yes)\n",
    "                \n",
    "                yield tup  \n",
    "\n",
    "    \n",
    "    \n",
    "    \n",
    "    for column_name in data.columns[:-1]:\n",
    "        df = pd.DataFrame([i for i in get_value_tuples(data, column_name)])\n",
    "        print(df)\n",
    "        df.columns = ['total_per_value', '\n",
    "        get_value_tuples(data, column_name)\n",
    "        print('\\n')\n",
    "        "
   ]
  },
  {
   "cell_type": "code",
   "execution_count": 545,
   "id": "c4d5ceaf",
   "metadata": {},
   "outputs": [
    {
     "name": "stdout",
     "output_type": "stream",
     "text": [
      "      0      1      2    3     4\n",
      "0  4241  0.980  0.020  3.8 -64.4\n",
      "1  4148  0.897  0.103 -5.0  84.1\n",
      "2  4194  0.955  0.045  1.2 -19.7\n",
      "\n",
      "\n",
      "      0      1      2    3    4\n",
      "0  4446  0.944  0.056 -0.0  0.0\n",
      "1  8137  0.944  0.056 -0.0  0.0\n",
      "\n",
      "\n"
     ]
    }
   ],
   "source": [
    "## First thing I want is to get the 5 value tuple instead.\n",
    "print_target_per_discrete(data.iloc[:,-3:])"
   ]
  },
  {
   "cell_type": "markdown",
   "id": "87448c6d",
   "metadata": {},
   "source": [
    "## 1. EDA"
   ]
  },
  {
   "cell_type": "markdown",
   "id": "108d9dd4",
   "metadata": {},
   "source": [
    "### 1.1. Basic Bird's Eye View"
   ]
  },
  {
   "cell_type": "code",
   "execution_count": 455,
   "id": "9fca4340",
   "metadata": {},
   "outputs": [
    {
     "data": {
      "text/plain": [
       "(18000, 16)"
      ]
     },
     "execution_count": 455,
     "metadata": {},
     "output_type": "execute_result"
    }
   ],
   "source": [
    "df.shape"
   ]
  },
  {
   "cell_type": "code",
   "execution_count": 456,
   "id": "28acbdc7",
   "metadata": {
    "scrolled": true
   },
   "outputs": [
    {
     "name": "stdout",
     "output_type": "stream",
     "text": [
      "<class 'pandas.core.frame.DataFrame'>\n",
      "RangeIndex: 18000 entries, 0 to 17999\n",
      "Data columns (total 16 columns):\n",
      " #   Column                Non-Null Count  Dtype  \n",
      "---  ------                --------------  -----  \n",
      " 0   offer_accepted        18000 non-null  object \n",
      " 1   reward                18000 non-null  object \n",
      " 2   mailer_type           18000 non-null  object \n",
      " 3   income_level          18000 non-null  object \n",
      " 4   n_bank_accounts_open  18000 non-null  int64  \n",
      " 5   overdraft_protection  18000 non-null  object \n",
      " 6   credit_rating         18000 non-null  object \n",
      " 7   n_credit_cards_held   18000 non-null  int64  \n",
      " 8   n_homes_owned         18000 non-null  int64  \n",
      " 9   household_size        18000 non-null  int64  \n",
      " 10  own_your_home         18000 non-null  object \n",
      " 11  average_balance       17976 non-null  float64\n",
      " 12  q1_balance            17976 non-null  float64\n",
      " 13  q2_balance            17976 non-null  float64\n",
      " 14  q3_balance            17976 non-null  float64\n",
      " 15  q4_balance            17976 non-null  float64\n",
      "dtypes: float64(5), int64(4), object(7)\n",
      "memory usage: 2.2+ MB\n"
     ]
    }
   ],
   "source": [
    "df.info()"
   ]
  },
  {
   "cell_type": "code",
   "execution_count": 457,
   "id": "313bd729",
   "metadata": {
    "scrolled": true
   },
   "outputs": [
    {
     "data": {
      "text/plain": [
       "offer_accepted           0\n",
       "reward                   0\n",
       "mailer_type              0\n",
       "income_level             0\n",
       "n_bank_accounts_open     0\n",
       "overdraft_protection     0\n",
       "credit_rating            0\n",
       "n_credit_cards_held      0\n",
       "n_homes_owned            0\n",
       "household_size           0\n",
       "own_your_home            0\n",
       "average_balance         24\n",
       "q1_balance              24\n",
       "q2_balance              24\n",
       "q3_balance              24\n",
       "q4_balance              24\n",
       "dtype: int64"
      ]
     },
     "execution_count": 457,
     "metadata": {},
     "output_type": "execute_result"
    }
   ],
   "source": [
    "df.isna().sum()"
   ]
  },
  {
   "cell_type": "code",
   "execution_count": 458,
   "id": "e4010a8d",
   "metadata": {
    "scrolled": false
   },
   "outputs": [
    {
     "data": {
      "text/plain": [
       "No     22\n",
       "Yes     2\n",
       "Name: offer_accepted, dtype: int64"
      ]
     },
     "execution_count": 458,
     "metadata": {},
     "output_type": "execute_result"
    }
   ],
   "source": [
    "data = df.offer_accepted[df.q1_balance.isna()]\n",
    "data.value_counts()\n",
    "## Just check before droping that th distribution is not that off."
   ]
  },
  {
   "cell_type": "code",
   "execution_count": 459,
   "id": "68f4e3f3",
   "metadata": {
    "scrolled": true
   },
   "outputs": [
    {
     "data": {
      "text/plain": [
       "0"
      ]
     },
     "execution_count": 459,
     "metadata": {},
     "output_type": "execute_result"
    }
   ],
   "source": [
    "balance_nan_drop = df[df.q1_balance.isna()].index\n",
    "df = df.drop(balance_nan_drop, errors='ignore')\n",
    "##Just delete all the values were the balances are nan\n",
    "df['q1_balance'].isna().sum()"
   ]
  },
  {
   "cell_type": "code",
   "execution_count": 460,
   "id": "428cbb0b",
   "metadata": {},
   "outputs": [
    {
     "data": {
      "text/html": [
       "<div>\n",
       "<style scoped>\n",
       "    .dataframe tbody tr th:only-of-type {\n",
       "        vertical-align: middle;\n",
       "    }\n",
       "\n",
       "    .dataframe tbody tr th {\n",
       "        vertical-align: top;\n",
       "    }\n",
       "\n",
       "    .dataframe thead th {\n",
       "        text-align: right;\n",
       "    }\n",
       "</style>\n",
       "<table border=\"1\" class=\"dataframe\">\n",
       "  <thead>\n",
       "    <tr style=\"text-align: right;\">\n",
       "      <th></th>\n",
       "      <th>n_bank_accounts_open</th>\n",
       "      <th>n_credit_cards_held</th>\n",
       "      <th>n_homes_owned</th>\n",
       "      <th>household_size</th>\n",
       "      <th>average_balance</th>\n",
       "      <th>q1_balance</th>\n",
       "      <th>q2_balance</th>\n",
       "      <th>q3_balance</th>\n",
       "      <th>q4_balance</th>\n",
       "    </tr>\n",
       "  </thead>\n",
       "  <tbody>\n",
       "    <tr>\n",
       "      <th>count</th>\n",
       "      <td>17976.000000</td>\n",
       "      <td>17976.000000</td>\n",
       "      <td>17976.000000</td>\n",
       "      <td>17976.000000</td>\n",
       "      <td>17976.000000</td>\n",
       "      <td>17976.000000</td>\n",
       "      <td>17976.000000</td>\n",
       "      <td>17976.000000</td>\n",
       "      <td>17976.000000</td>\n",
       "    </tr>\n",
       "    <tr>\n",
       "      <th>mean</th>\n",
       "      <td>1.255730</td>\n",
       "      <td>1.903427</td>\n",
       "      <td>1.203549</td>\n",
       "      <td>3.499110</td>\n",
       "      <td>940.515562</td>\n",
       "      <td>910.450656</td>\n",
       "      <td>999.392190</td>\n",
       "      <td>1042.033600</td>\n",
       "      <td>810.185803</td>\n",
       "    </tr>\n",
       "    <tr>\n",
       "      <th>std</th>\n",
       "      <td>0.472405</td>\n",
       "      <td>0.797086</td>\n",
       "      <td>0.427446</td>\n",
       "      <td>1.114476</td>\n",
       "      <td>350.297837</td>\n",
       "      <td>620.077060</td>\n",
       "      <td>457.402268</td>\n",
       "      <td>553.452599</td>\n",
       "      <td>559.001365</td>\n",
       "    </tr>\n",
       "    <tr>\n",
       "      <th>min</th>\n",
       "      <td>1.000000</td>\n",
       "      <td>1.000000</td>\n",
       "      <td>1.000000</td>\n",
       "      <td>1.000000</td>\n",
       "      <td>48.250000</td>\n",
       "      <td>0.000000</td>\n",
       "      <td>0.000000</td>\n",
       "      <td>0.000000</td>\n",
       "      <td>0.000000</td>\n",
       "    </tr>\n",
       "    <tr>\n",
       "      <th>25%</th>\n",
       "      <td>1.000000</td>\n",
       "      <td>1.000000</td>\n",
       "      <td>1.000000</td>\n",
       "      <td>3.000000</td>\n",
       "      <td>787.500000</td>\n",
       "      <td>392.750000</td>\n",
       "      <td>663.000000</td>\n",
       "      <td>633.000000</td>\n",
       "      <td>363.000000</td>\n",
       "    </tr>\n",
       "    <tr>\n",
       "      <th>50%</th>\n",
       "      <td>1.000000</td>\n",
       "      <td>2.000000</td>\n",
       "      <td>1.000000</td>\n",
       "      <td>3.000000</td>\n",
       "      <td>1007.000000</td>\n",
       "      <td>772.000000</td>\n",
       "      <td>1032.000000</td>\n",
       "      <td>945.500000</td>\n",
       "      <td>703.000000</td>\n",
       "    </tr>\n",
       "    <tr>\n",
       "      <th>75%</th>\n",
       "      <td>1.000000</td>\n",
       "      <td>2.000000</td>\n",
       "      <td>1.000000</td>\n",
       "      <td>4.000000</td>\n",
       "      <td>1153.250000</td>\n",
       "      <td>1521.000000</td>\n",
       "      <td>1342.000000</td>\n",
       "      <td>1463.000000</td>\n",
       "      <td>1212.000000</td>\n",
       "    </tr>\n",
       "    <tr>\n",
       "      <th>max</th>\n",
       "      <td>3.000000</td>\n",
       "      <td>4.000000</td>\n",
       "      <td>3.000000</td>\n",
       "      <td>9.000000</td>\n",
       "      <td>3366.250000</td>\n",
       "      <td>3450.000000</td>\n",
       "      <td>3421.000000</td>\n",
       "      <td>3823.000000</td>\n",
       "      <td>4215.000000</td>\n",
       "    </tr>\n",
       "  </tbody>\n",
       "</table>\n",
       "</div>"
      ],
      "text/plain": [
       "       n_bank_accounts_open  n_credit_cards_held  n_homes_owned  \\\n",
       "count          17976.000000         17976.000000   17976.000000   \n",
       "mean               1.255730             1.903427       1.203549   \n",
       "std                0.472405             0.797086       0.427446   \n",
       "min                1.000000             1.000000       1.000000   \n",
       "25%                1.000000             1.000000       1.000000   \n",
       "50%                1.000000             2.000000       1.000000   \n",
       "75%                1.000000             2.000000       1.000000   \n",
       "max                3.000000             4.000000       3.000000   \n",
       "\n",
       "       household_size  average_balance    q1_balance    q2_balance  \\\n",
       "count    17976.000000     17976.000000  17976.000000  17976.000000   \n",
       "mean         3.499110       940.515562    910.450656    999.392190   \n",
       "std          1.114476       350.297837    620.077060    457.402268   \n",
       "min          1.000000        48.250000      0.000000      0.000000   \n",
       "25%          3.000000       787.500000    392.750000    663.000000   \n",
       "50%          3.000000      1007.000000    772.000000   1032.000000   \n",
       "75%          4.000000      1153.250000   1521.000000   1342.000000   \n",
       "max          9.000000      3366.250000   3450.000000   3421.000000   \n",
       "\n",
       "         q3_balance    q4_balance  \n",
       "count  17976.000000  17976.000000  \n",
       "mean    1042.033600    810.185803  \n",
       "std      553.452599    559.001365  \n",
       "min        0.000000      0.000000  \n",
       "25%      633.000000    363.000000  \n",
       "50%      945.500000    703.000000  \n",
       "75%     1463.000000   1212.000000  \n",
       "max     3823.000000   4215.000000  "
      ]
     },
     "execution_count": 460,
     "metadata": {},
     "output_type": "execute_result"
    }
   ],
   "source": [
    "df.describe()"
   ]
  },
  {
   "cell_type": "markdown",
   "id": "11f332cd",
   "metadata": {},
   "source": [
    "### 1.2 Check for general outliers"
   ]
  },
  {
   "cell_type": "code",
   "execution_count": 461,
   "id": "5b041fe0",
   "metadata": {},
   "outputs": [],
   "source": [
    "continuous = df.select_dtypes(include='float')\n",
    "discrete = df.select_dtypes(include='int')\n",
    "target = df.offer_accepted\n",
    "categorical = df.select_dtypes(include='object').drop('offer_accepted', axis=1)"
   ]
  },
  {
   "cell_type": "code",
   "execution_count": 462,
   "id": "ca8a1485",
   "metadata": {
    "scrolled": true
   },
   "outputs": [
    {
     "name": "stdout",
     "output_type": "stream",
     "text": [
      "15\n"
     ]
    }
   ],
   "source": [
    "print(len(continuous.columns) + len(discrete.columns) + len(categorical.columns) )"
   ]
  },
  {
   "cell_type": "code",
   "execution_count": 463,
   "id": "eef1215a",
   "metadata": {},
   "outputs": [
    {
     "data": {
      "text/plain": [
       "array([ 2296,  2655,  8777,  8887, 10475, 10576, 12633, 12635, 14003,\n",
       "       15259, 15608])"
      ]
     },
     "execution_count": 463,
     "metadata": {},
     "output_type": "execute_result"
    }
   ],
   "source": [
    "data = df.select_dtypes('float').drop('average_balance',axis=1)\n",
    "\n",
    "q1_outliers = get_outliers_index_iqr(data.q1_balance, threshold=1.2) ## This can still \n",
    "q2_outliers = get_outliers_index_iqr(data.q2_balance, threshold=1.2)\n",
    "q3_outliers = get_outliers_index_iqr(data.q3_balance, threshold=1.2)\n",
    "q4_outliers = get_outliers_index_iqr(data.q4_balance, threshold=1.2)\n",
    "outliers_index_continuous = np.unique(np.concatenate([q1_outliers,q2_outliers\n",
    "                                            ,q3_outliers,q4_outliers], 0))\n",
    "\n",
    "outliers_index_continuous"
   ]
  },
  {
   "cell_type": "code",
   "execution_count": 464,
   "id": "af3ef623",
   "metadata": {
    "scrolled": true
   },
   "outputs": [
    {
     "name": "stdout",
     "output_type": "stream",
     "text": [
      "185 outliers found for the value \"\"3\" in n_homes_owned\n",
      "1 outliers found for the value \"\"8\" in household_size\n",
      "1 outliers found for the value \"\"9\" in household_size\n",
      "\n",
      "Length of the array: 187\n"
     ]
    },
    {
     "data": {
      "text/plain": [
       "array([ 38,  58,  95, 101, 104, 481, 495, 527, 760, 824])"
      ]
     },
     "execution_count": 464,
     "metadata": {},
     "output_type": "execute_result"
    }
   ],
   "source": [
    "data = df.select_dtypes('int')\n",
    "indexes = [i for i in get_outliers_index_categorical(data, threshold=0.015)] # 1.5% of the data as outliers\n",
    "outliers_index_discrete = (np.unique(np.concatenate(indexes))) # np.unique eliminates redundancy between indexes\n",
    "print(f'\\nLength of the array: {len(outliers_index_discrete)}')\n",
    "outliers_index_discrete[:10] ## Showing only the first 10"
   ]
  },
  {
   "cell_type": "code",
   "execution_count": 465,
   "id": "397924e0",
   "metadata": {},
   "outputs": [
    {
     "name": "stdout",
     "output_type": "stream",
     "text": [
      "\n",
      "Length of the array: 0\n"
     ]
    },
    {
     "data": {
      "text/plain": [
       "array([], dtype=int64)"
      ]
     },
     "execution_count": 465,
     "metadata": {},
     "output_type": "execute_result"
    }
   ],
   "source": [
    "data = df.select_dtypes('object')\n",
    "indexes = [i for i in get_outliers_index_categorical(data, threshold=0.015)] # 1.5% of the data as outliers\n",
    "outliers_index_categorical = (np.unique(np.concatenate(indexes)))\n",
    "print(f'\\nLength of the array: {len(outliers_index_categorical)}')\n",
    "outliers_index_categorical[:10] ## Showing only the first 10"
   ]
  },
  {
   "cell_type": "markdown",
   "id": "d17d7447",
   "metadata": {},
   "source": [
    "### 1.3 Train test split"
   ]
  },
  {
   "cell_type": "code",
   "execution_count": 466,
   "id": "bc68d9c1",
   "metadata": {},
   "outputs": [],
   "source": [
    "## Split the data\n",
    "X = df.drop('offer_accepted', axis=1)\n",
    "y = df['offer_accepted']\n",
    "X_train, X_test, y_train, y_test = train_test_split(X, y, test_size=0.30, random_state=30)"
   ]
  },
  {
   "cell_type": "code",
   "execution_count": 467,
   "id": "4571a0d2",
   "metadata": {},
   "outputs": [
    {
     "data": {
      "text/plain": [
       "0        No\n",
       "1        No\n",
       "2        No\n",
       "3        No\n",
       "4        No\n",
       "         ..\n",
       "17995    No\n",
       "17996    No\n",
       "17997    No\n",
       "17998    No\n",
       "17999    No\n",
       "Name: offer_accepted, Length: 17976, dtype: object"
      ]
     },
     "execution_count": 467,
     "metadata": {},
     "output_type": "execute_result"
    }
   ],
   "source": [
    "y"
   ]
  },
  {
   "cell_type": "code",
   "execution_count": 252,
   "id": "222af117",
   "metadata": {},
   "outputs": [],
   "source": [
    "## Get all the matrices for training data\n",
    "data = X_train # Just to maintain consistency.\n",
    "continuous_train = data.select_dtypes(include='float')\n",
    "discrete_train = data.select_dtypes(include='int')\n",
    "categorical_train = data.select_dtypes(include='object') # droping the target is not needed anymore.\n",
    "\n",
    "## Get all the matrices for test data\n",
    "data = X_test\n",
    "continuous_test = data.select_dtypes(include='float')\n",
    "discrete_test = data.select_dtypes(include='int')\n",
    "categorical_test = data.select_dtypes(include='object') "
   ]
  },
  {
   "cell_type": "code",
   "execution_count": 253,
   "id": "8cc57b28",
   "metadata": {},
   "outputs": [
    {
     "name": "stdout",
     "output_type": "stream",
     "text": [
      "train matrices shapes\n",
      "(12583, 5)\n",
      "(12583, 4)\n",
      "(12583, 6)\n",
      "\n",
      "test matrices shapes\n",
      "(5393, 5)\n",
      "(5393, 4)\n",
      "(5393, 6)\n"
     ]
    }
   ],
   "source": [
    "print('train matrices shapes')\n",
    "for matrix in [continuous_train,discrete_train,categorical_train]:\n",
    "    print(matrix.shape)\n",
    "\n",
    "print('\\ntest matrices shapes')\n",
    "for matrix in [continuous_test,discrete_test,categorical_test]:\n",
    "    print(matrix.shape)"
   ]
  },
  {
   "cell_type": "markdown",
   "id": "0c3a0d84",
   "metadata": {},
   "source": [
    "### 1.4 Check the Value Counts of the target."
   ]
  },
  {
   "cell_type": "code",
   "execution_count": 217,
   "id": "11ae2e0e",
   "metadata": {},
   "outputs": [
    {
     "data": {
      "text/plain": [
       "No     11880\n",
       "Yes      703\n",
       "Name: offer_accepted, dtype: int64"
      ]
     },
     "execution_count": 217,
     "metadata": {},
     "output_type": "execute_result"
    }
   ],
   "source": [
    "data = y_train\n",
    "data.value_counts()"
   ]
  },
  {
   "cell_type": "code",
   "execution_count": 218,
   "id": "7e04c6e5",
   "metadata": {},
   "outputs": [
    {
     "data": {
      "text/plain": [
       "16.89900426742532"
      ]
     },
     "execution_count": 218,
     "metadata": {},
     "output_type": "execute_result"
    }
   ],
   "source": [
    "v_counts = data.value_counts()\n",
    "v_counts['No'] / v_counts['Yes'] "
   ]
  },
  {
   "cell_type": "code",
   "execution_count": 219,
   "id": "2f913281",
   "metadata": {},
   "outputs": [
    {
     "data": {
      "text/plain": [
       "0.6608811748998665"
      ]
     },
     "execution_count": 219,
     "metadata": {},
     "output_type": "execute_result"
    }
   ],
   "source": [
    "## What if Just everything is No.\n",
    "v_counts['No'] / len(target)"
   ]
  },
  {
   "cell_type": "markdown",
   "id": "fc6891a4",
   "metadata": {},
   "source": [
    "It is clear that the target is not well balance. We can see that there is 16.9 times more rejections than accepted offers. This means that if you preddict everything as a 'No' you will actually have more than **94% correct values**. "
   ]
  },
  {
   "cell_type": "markdown",
   "id": "d049b242",
   "metadata": {},
   "source": [
    "### 4) Cheking Continuous Data "
   ]
  },
  {
   "cell_type": "code",
   "execution_count": 267,
   "id": "38f5afdf",
   "metadata": {},
   "outputs": [],
   "source": [
    "data = continuous_train"
   ]
  },
  {
   "cell_type": "code",
   "execution_count": 269,
   "id": "580b943a",
   "metadata": {},
   "outputs": [
    {
     "data": {
      "text/plain": [
       "count    12583.000000\n",
       "mean       938.661269\n",
       "std        351.859466\n",
       "min         48.250000\n",
       "25%        787.750000\n",
       "50%       1007.750000\n",
       "75%       1151.375000\n",
       "max       3366.250000\n",
       "dtype: float64"
      ]
     },
     "execution_count": 269,
     "metadata": {},
     "output_type": "execute_result"
    }
   ],
   "source": [
    "## This is how it is calculated. First getting the mean of all the values and \n",
    "## then apply a describe function.\n",
    "data.iloc[:,1:].mean(axis=1).describe()"
   ]
  },
  {
   "cell_type": "markdown",
   "id": "b38bc000",
   "metadata": {},
   "source": [
    "The first thing we can see that there is a column that is **dependent** on the other 4. This means we can just drop the column. "
   ]
  },
  {
   "cell_type": "code",
   "execution_count": 270,
   "id": "d1569134",
   "metadata": {},
   "outputs": [],
   "source": [
    "average_balance = data['average_balance']\n",
    "data = data.drop('average_balance',axis=1)"
   ]
  },
  {
   "cell_type": "code",
   "execution_count": 271,
   "id": "4d15a701",
   "metadata": {},
   "outputs": [
    {
     "data": {
      "text/html": [
       "<div>\n",
       "<style scoped>\n",
       "    .dataframe tbody tr th:only-of-type {\n",
       "        vertical-align: middle;\n",
       "    }\n",
       "\n",
       "    .dataframe tbody tr th {\n",
       "        vertical-align: top;\n",
       "    }\n",
       "\n",
       "    .dataframe thead th {\n",
       "        text-align: right;\n",
       "    }\n",
       "</style>\n",
       "<table border=\"1\" class=\"dataframe\">\n",
       "  <thead>\n",
       "    <tr style=\"text-align: right;\">\n",
       "      <th></th>\n",
       "      <th>q1_balance</th>\n",
       "      <th>q2_balance</th>\n",
       "      <th>q3_balance</th>\n",
       "      <th>q4_balance</th>\n",
       "    </tr>\n",
       "  </thead>\n",
       "  <tbody>\n",
       "    <tr>\n",
       "      <th>count</th>\n",
       "      <td>12583.000000</td>\n",
       "      <td>12583.000000</td>\n",
       "      <td>12583.000000</td>\n",
       "      <td>12583.000000</td>\n",
       "    </tr>\n",
       "    <tr>\n",
       "      <th>mean</th>\n",
       "      <td>912.464436</td>\n",
       "      <td>997.503060</td>\n",
       "      <td>1037.259636</td>\n",
       "      <td>807.417945</td>\n",
       "    </tr>\n",
       "    <tr>\n",
       "      <th>std</th>\n",
       "      <td>619.506209</td>\n",
       "      <td>458.742749</td>\n",
       "      <td>553.314917</td>\n",
       "      <td>560.870314</td>\n",
       "    </tr>\n",
       "    <tr>\n",
       "      <th>min</th>\n",
       "      <td>0.000000</td>\n",
       "      <td>1.000000</td>\n",
       "      <td>0.000000</td>\n",
       "      <td>0.000000</td>\n",
       "    </tr>\n",
       "    <tr>\n",
       "      <th>25%</th>\n",
       "      <td>392.000000</td>\n",
       "      <td>661.000000</td>\n",
       "      <td>629.000000</td>\n",
       "      <td>356.000000</td>\n",
       "    </tr>\n",
       "    <tr>\n",
       "      <th>50%</th>\n",
       "      <td>778.000000</td>\n",
       "      <td>1032.000000</td>\n",
       "      <td>942.000000</td>\n",
       "      <td>699.000000</td>\n",
       "    </tr>\n",
       "    <tr>\n",
       "      <th>75%</th>\n",
       "      <td>1526.000000</td>\n",
       "      <td>1339.000000</td>\n",
       "      <td>1457.000000</td>\n",
       "      <td>1210.500000</td>\n",
       "    </tr>\n",
       "    <tr>\n",
       "      <th>max</th>\n",
       "      <td>2509.000000</td>\n",
       "      <td>3421.000000</td>\n",
       "      <td>3823.000000</td>\n",
       "      <td>4215.000000</td>\n",
       "    </tr>\n",
       "  </tbody>\n",
       "</table>\n",
       "</div>"
      ],
      "text/plain": [
       "         q1_balance    q2_balance    q3_balance    q4_balance\n",
       "count  12583.000000  12583.000000  12583.000000  12583.000000\n",
       "mean     912.464436    997.503060   1037.259636    807.417945\n",
       "std      619.506209    458.742749    553.314917    560.870314\n",
       "min        0.000000      1.000000      0.000000      0.000000\n",
       "25%      392.000000    661.000000    629.000000    356.000000\n",
       "50%      778.000000   1032.000000    942.000000    699.000000\n",
       "75%     1526.000000   1339.000000   1457.000000   1210.500000\n",
       "max     2509.000000   3421.000000   3823.000000   4215.000000"
      ]
     },
     "execution_count": 271,
     "metadata": {},
     "output_type": "execute_result"
    }
   ],
   "source": [
    "data.describe()"
   ]
  },
  {
   "cell_type": "code",
   "execution_count": 272,
   "id": "b8d853b7",
   "metadata": {
    "scrolled": true
   },
   "outputs": [
    {
     "data": {
      "image/png": "[encoded data removed]",
      "text/plain": [
       "<Figure size 504x432 with 1 Axes>"
      ]
     },
     "metadata": {
      "needs_background": "light"
     },
     "output_type": "display_data"
    }
   ],
   "source": [
    "rows = ['25%', '50%', '75%', 'max']\n",
    "colors = ['r', 'y','b','g']\n",
    "l_rows = len(rows)\n",
    "\n",
    "fig = plt.figure(figsize=(7,6))\n",
    "\n",
    "for i in range(len(rows)):\n",
    "    column_name = rows[i]\n",
    "    x = data.describe().loc[column_name].index ## Row name is the 25%, 50%...\n",
    "    y = data.describe().loc[column_name].values\n",
    "    plt.plot(x, y , color=colors[i],linewidth=1, label=rows[i])\n",
    "    \n",
    "plt.legend()\n",
    "plt.ylim(0, 4500)\n",
    "    \n",
    "plt.tight_layout()\n",
    "plt.show()"
   ]
  },
  {
   "cell_type": "markdown",
   "id": "d02bfb69",
   "metadata": {},
   "source": [
    "This is not super precise, but it gives an idea of how behaviour of the different groups from the riches to the poorest. What can be observed is that both **25% and 50%** people start low, gets a better balance throughout the year and then it returns back to low. The **75%** starts high and then slowly descends. And the **100%** keeps going up. This is of course a single value consideration; and the max is probably an outlier. But since the percentiles are calculated by columns and not rows; it could already be giving some insight on the data."
   ]
  },
  {
   "cell_type": "code",
   "execution_count": 273,
   "id": "c4fcb605",
   "metadata": {},
   "outputs": [
    {
     "data": {
      "image/png": "[encoded data removed]",
      "text/plain": [
       "<Figure size 720x504 with 1 Axes>"
      ]
     },
     "metadata": {
      "needs_background": "light"
     },
     "output_type": "display_data"
    }
   ],
   "source": [
    "colors = ['r', 'y']\n",
    "fig, axs = plt.subplots(1,1, figsize=(10,7))\n",
    "for i in range(2):\n",
    "    sns.histplot(data=data, x=data.columns[i],\n",
    "                 bins=70, ax=axs, color=colors[i], label=data.columns[i])\n",
    "\n",
    "plt.legend()\n",
    "plt.show()"
   ]
  },
  {
   "cell_type": "code",
   "execution_count": 274,
   "id": "9cc39536",
   "metadata": {
    "scrolled": true
   },
   "outputs": [
    {
     "data": {
      "image/png": "[encoded data removed]",
      "text/plain": [
       "<Figure size 720x504 with 1 Axes>"
      ]
     },
     "metadata": {
      "needs_background": "light"
     },
     "output_type": "display_data"
    }
   ],
   "source": [
    "colors = ['r', 'y']\n",
    "fig, axs = plt.subplots(1,1, figsize=(10,7))\n",
    "for i in range(2):\n",
    "    sns.histplot(data=data, x=data.columns[i+2],\n",
    "                 bins=70, ax=axs, color=colors[i], label=data.columns[i+2])\n",
    "\n",
    "plt.legend()\n",
    "plt.show()"
   ]
  },
  {
   "cell_type": "markdown",
   "id": "ef491d04",
   "metadata": {},
   "source": [
    "This shows a lot of stuff:\n",
    "1) That there are a lot of outliers, specially in the highest range of the values\n",
    "<br>2) It looks as if there was some kind of pumping (like a heart)\n",
    "<br>3) The amount of people with a balance lower to 1000 is highes at the q4 (guess at the end of the year)."
   ]
  },
  {
   "cell_type": "markdown",
   "id": "f748d3a1",
   "metadata": {},
   "source": [
    "Now it is shown the boxplots between each q and the target."
   ]
  },
  {
   "cell_type": "code",
   "execution_count": 275,
   "id": "f4efa9c2",
   "metadata": {},
   "outputs": [],
   "source": [
    "data = pd.concat([data,y_train],axis=1)"
   ]
  },
  {
   "cell_type": "code",
   "execution_count": 277,
   "id": "e4a43c16",
   "metadata": {
    "scrolled": true
   },
   "outputs": [
    {
     "data": {
      "text/html": [
       "<div>\n",
       "<style scoped>\n",
       "    .dataframe tbody tr th:only-of-type {\n",
       "        vertical-align: middle;\n",
       "    }\n",
       "\n",
       "    .dataframe tbody tr th {\n",
       "        vertical-align: top;\n",
       "    }\n",
       "\n",
       "    .dataframe thead th {\n",
       "        text-align: right;\n",
       "    }\n",
       "</style>\n",
       "<table border=\"1\" class=\"dataframe\">\n",
       "  <thead>\n",
       "    <tr style=\"text-align: right;\">\n",
       "      <th></th>\n",
       "      <th>q1_balance</th>\n",
       "      <th>q2_balance</th>\n",
       "      <th>q3_balance</th>\n",
       "      <th>q4_balance</th>\n",
       "      <th>offer_accepted</th>\n",
       "    </tr>\n",
       "  </thead>\n",
       "  <tbody>\n",
       "    <tr>\n",
       "      <th>3257</th>\n",
       "      <td>875.0</td>\n",
       "      <td>817.0</td>\n",
       "      <td>913.0</td>\n",
       "      <td>580.0</td>\n",
       "      <td>No</td>\n",
       "    </tr>\n",
       "    <tr>\n",
       "      <th>14091</th>\n",
       "      <td>633.0</td>\n",
       "      <td>714.0</td>\n",
       "      <td>839.0</td>\n",
       "      <td>580.0</td>\n",
       "      <td>No</td>\n",
       "    </tr>\n",
       "    <tr>\n",
       "      <th>17881</th>\n",
       "      <td>225.0</td>\n",
       "      <td>214.0</td>\n",
       "      <td>7.0</td>\n",
       "      <td>67.0</td>\n",
       "      <td>No</td>\n",
       "    </tr>\n",
       "    <tr>\n",
       "      <th>17701</th>\n",
       "      <td>198.0</td>\n",
       "      <td>51.0</td>\n",
       "      <td>349.0</td>\n",
       "      <td>105.0</td>\n",
       "      <td>No</td>\n",
       "    </tr>\n",
       "    <tr>\n",
       "      <th>3091</th>\n",
       "      <td>1367.0</td>\n",
       "      <td>842.0</td>\n",
       "      <td>775.0</td>\n",
       "      <td>996.0</td>\n",
       "      <td>No</td>\n",
       "    </tr>\n",
       "    <tr>\n",
       "      <th>...</th>\n",
       "      <td>...</td>\n",
       "      <td>...</td>\n",
       "      <td>...</td>\n",
       "      <td>...</td>\n",
       "      <td>...</td>\n",
       "    </tr>\n",
       "    <tr>\n",
       "      <th>501</th>\n",
       "      <td>178.0</td>\n",
       "      <td>472.0</td>\n",
       "      <td>5.0</td>\n",
       "      <td>381.0</td>\n",
       "      <td>No</td>\n",
       "    </tr>\n",
       "    <tr>\n",
       "      <th>12091</th>\n",
       "      <td>630.0</td>\n",
       "      <td>757.0</td>\n",
       "      <td>854.0</td>\n",
       "      <td>849.0</td>\n",
       "      <td>No</td>\n",
       "    </tr>\n",
       "    <tr>\n",
       "      <th>15298</th>\n",
       "      <td>911.0</td>\n",
       "      <td>812.0</td>\n",
       "      <td>618.0</td>\n",
       "      <td>888.0</td>\n",
       "      <td>No</td>\n",
       "    </tr>\n",
       "    <tr>\n",
       "      <th>4521</th>\n",
       "      <td>1639.0</td>\n",
       "      <td>1805.0</td>\n",
       "      <td>1608.0</td>\n",
       "      <td>1518.0</td>\n",
       "      <td>No</td>\n",
       "    </tr>\n",
       "    <tr>\n",
       "      <th>5932</th>\n",
       "      <td>332.0</td>\n",
       "      <td>1894.0</td>\n",
       "      <td>1797.0</td>\n",
       "      <td>577.0</td>\n",
       "      <td>No</td>\n",
       "    </tr>\n",
       "  </tbody>\n",
       "</table>\n",
       "<p>12583 rows × 5 columns</p>\n",
       "</div>"
      ],
      "text/plain": [
       "       q1_balance  q2_balance  q3_balance  q4_balance offer_accepted\n",
       "3257        875.0       817.0       913.0       580.0             No\n",
       "14091       633.0       714.0       839.0       580.0             No\n",
       "17881       225.0       214.0         7.0        67.0             No\n",
       "17701       198.0        51.0       349.0       105.0             No\n",
       "3091       1367.0       842.0       775.0       996.0             No\n",
       "...           ...         ...         ...         ...            ...\n",
       "501         178.0       472.0         5.0       381.0             No\n",
       "12091       630.0       757.0       854.0       849.0             No\n",
       "15298       911.0       812.0       618.0       888.0             No\n",
       "4521       1639.0      1805.0      1608.0      1518.0             No\n",
       "5932        332.0      1894.0      1797.0       577.0             No\n",
       "\n",
       "[12583 rows x 5 columns]"
      ]
     },
     "execution_count": 277,
     "metadata": {},
     "output_type": "execute_result"
    }
   ],
   "source": [
    "data"
   ]
  },
  {
   "cell_type": "code",
   "execution_count": 279,
   "id": "8727023e",
   "metadata": {},
   "outputs": [
    {
     "data": {
      "image/png": "[encoded data removed]",
      "text/plain": [
       "<Figure size 864x576 with 4 Axes>"
      ]
     },
     "metadata": {
      "needs_background": "light"
     },
     "output_type": "display_data"
    }
   ],
   "source": [
    "fig, axs = plt.subplots(2,2, figsize=(12,8))\n",
    "pairs = [i for i in get_pairs(2,2)] # This is needed to make the iteration below work.\n",
    "\n",
    "for i in range(4):\n",
    "    axs[pairs[i]].x_lim = (0,4500)\n",
    "    sns.boxplot(data=data,x=data.columns[i], y='offer_accepted', ax=axs[pairs[i]]) \n",
    "plt.show()"
   ]
  },
  {
   "cell_type": "markdown",
   "id": "ddfeeb1d",
   "metadata": {},
   "source": [
    "As **unexpected** as it may sound, it doesn't seem to be much correlation between the balance someone has and if the accept or not their offer."
   ]
  },
  {
   "cell_type": "code",
   "execution_count": 280,
   "id": "c4ed2067",
   "metadata": {
    "scrolled": true
   },
   "outputs": [
    {
     "data": {
      "image/png": "[encoded data removed]",
      "text/plain": [
       "<Figure size 360x360 with 1 Axes>"
      ]
     },
     "metadata": {
      "needs_background": "light"
     },
     "output_type": "display_data"
    }
   ],
   "source": [
    "variance_q1_q4 = data['q4_balance'] - data['q1_balance'] ## Because probably what they are watching \n",
    "                                                         ## is the way they spend the money.\n",
    "    \n",
    "fig = plt.figure(figsize=(5,5))\n",
    "sns.boxplot(data=data,x=variance_q1_q4, y='offer_accepted') \n",
    "plt.show()\n",
    "\n",
    "## Better, but there is doesn't seem to be significant correlation."
   ]
  },
  {
   "cell_type": "markdown",
   "id": "db276b34",
   "metadata": {},
   "source": [
    "Finally it would be shown what is the relationship between **offer_accepted** and the **outliers**. For this it would be used the average balance."
   ]
  },
  {
   "cell_type": "code",
   "execution_count": 288,
   "id": "50047c75",
   "metadata": {},
   "outputs": [
    {
     "data": {
      "image/png": "[encoded data removed]",
      "text/plain": [
       "<Figure size 864x576 with 4 Axes>"
      ]
     },
     "metadata": {
      "needs_background": "light"
     },
     "output_type": "display_data"
    }
   ],
   "source": [
    "fig, axs = plt.subplots(2,2, figsize=(12,8))\n",
    "pairs = [i for i in get_pairs(2,2)] # This is needed to make the iteration below work.\n",
    "\n",
    "for i in range(4):\n",
    "    axs[pairs[i]].x_lim = (0,4500)\n",
    "    sns.boxplot(data=data,x=data.columns[i],  ax=axs[pairs[i]]) \n",
    "plt.show()"
   ]
  },
  {
   "cell_type": "code",
   "execution_count": 287,
   "id": "e5e44564",
   "metadata": {},
   "outputs": [
    {
     "name": "stdout",
     "output_type": "stream",
     "text": [
      "size index: 6\n",
      "\n"
     ]
    },
    {
     "data": {
      "text/plain": [
       "No    6\n",
       "Name: offer_accepted, dtype: int64"
      ]
     },
     "execution_count": 287,
     "metadata": {},
     "output_type": "execute_result"
    }
   ],
   "source": [
    "q1_outliers = get_outliers_index_iqr(data.q1_balance, threshold=1.5)\n",
    "q2_outliers = get_outliers_index_iqr(data.q2_balance, threshold=1.5)\n",
    "q3_outliers = get_outliers_index_iqr(data.q3_balance, threshold=1.5)\n",
    "q4_outliers = get_outliers_index_iqr(data.q4_balance, threshold=1.5)\n",
    "index = np.unique(np.concatenate([q1_outliers,q2_outliers\n",
    "                                  ,q3_outliers,q4_outliers], 0))\n",
    "print(f'size index: {len(index)}\\n')\n",
    "\n",
    "df.offer_accepted[index].value_counts()"
   ]
  },
  {
   "cell_type": "markdown",
   "id": "7abe1625",
   "metadata": {},
   "source": [
    "All outlers are **being regected**. This may have many reasons that are out of the scope of this analysis."
   ]
  },
  {
   "cell_type": "code",
   "execution_count": 289,
   "id": "27a70cce",
   "metadata": {
    "scrolled": true
   },
   "outputs": [
    {
     "data": {
      "text/plain": [
       "<function matplotlib.pyplot.show(close=None, block=None)>"
      ]
     },
     "execution_count": 289,
     "metadata": {},
     "output_type": "execute_result"
    },
    {
     "data": {
      "image/png": "[encoded data removed]",
      "text/plain": [
       "<Figure size 432x288 with 2 Axes>"
      ]
     },
     "metadata": {
      "needs_background": "light"
     },
     "output_type": "display_data"
    }
   ],
   "source": [
    "corr = data.corr(method='spearman')\n",
    "sns.heatmap(corr, cmap='RdYlGn_r',  annot=True)\n",
    "plt.show"
   ]
  },
  {
   "cell_type": "markdown",
   "id": "6ba1fa52",
   "metadata": {},
   "source": [
    "It can be seen that the correlation is not that high. Probably the only thing that is interesting is the negative correlation between balance 1 and the balances 3 and balance 4."
   ]
  },
  {
   "cell_type": "code",
   "execution_count": 145,
   "id": "7155032d",
   "metadata": {
    "scrolled": true
   },
   "outputs": [
    {
     "data": {
      "text/plain": [
       "<AxesSubplot:xlabel='q1_balance', ylabel='q4_balance'>"
      ]
     },
     "execution_count": 145,
     "metadata": {},
     "output_type": "execute_result"
    },
    {
     "data": {
      "image/png": "[encoded data removed]",
      "text/plain": [
       "<Figure size 432x288 with 1 Axes>"
      ]
     },
     "metadata": {
      "needs_background": "light"
     },
     "output_type": "display_data"
    }
   ],
   "source": [
    "sns.scatterplot(data=data, x='q1_balance',y='q4_balance')"
   ]
  },
  {
   "cell_type": "code",
   "execution_count": 146,
   "id": "4abdd419",
   "metadata": {
    "scrolled": true
   },
   "outputs": [
    {
     "data": {
      "text/plain": [
       "<AxesSubplot:xlabel='q1_balance', ylabel='q3_balance'>"
      ]
     },
     "execution_count": 146,
     "metadata": {},
     "output_type": "execute_result"
    },
    {
     "data": {
      "image/png": "[encoded data removed]",
      "text/plain": [
       "<Figure size 432x288 with 1 Axes>"
      ]
     },
     "metadata": {
      "needs_background": "light"
     },
     "output_type": "display_data"
    }
   ],
   "source": [
    "sns.scatterplot(data=data, x='q1_balance',y='q3_balance')"
   ]
  },
  {
   "cell_type": "code",
   "execution_count": 147,
   "id": "6e993771",
   "metadata": {
    "scrolled": true
   },
   "outputs": [
    {
     "data": {
      "text/plain": [
       "<AxesSubplot:xlabel='q3_balance', ylabel='q4_balance'>"
      ]
     },
     "execution_count": 147,
     "metadata": {},
     "output_type": "execute_result"
    },
    {
     "data": {
      "image/png": "[encoded data removed]",
      "text/plain": [
       "<Figure size 432x288 with 1 Axes>"
      ]
     },
     "metadata": {
      "needs_background": "light"
     },
     "output_type": "display_data"
    }
   ],
   "source": [
    "sns.scatterplot(data=data, x='q3_balance',y='q4_balance')"
   ]
  },
  {
   "cell_type": "code",
   "execution_count": 149,
   "id": "59ca9468",
   "metadata": {
    "scrolled": true
   },
   "outputs": [
    {
     "data": {
      "text/plain": [
       "<AxesSubplot:xlabel='q2_balance', ylabel='q3_balance'>"
      ]
     },
     "execution_count": 149,
     "metadata": {},
     "output_type": "execute_result"
    },
    {
     "data": {
      "image/png": "[encoded data removed]",
      "text/plain": [
       "<Figure size 432x288 with 1 Axes>"
      ]
     },
     "metadata": {
      "needs_background": "light"
     },
     "output_type": "display_data"
    }
   ],
   "source": [
    "sns.scatterplot(data=data, x='q2_balance',y='q3_balance')"
   ]
  },
  {
   "cell_type": "markdown",
   "id": "8c0abacd",
   "metadata": {},
   "source": [
    "I deffinetely wasn't expecting this sort of **behaviour**. Not even sure what to do with this."
   ]
  },
  {
   "cell_type": "code",
   "execution_count": 290,
   "id": "1c83101a",
   "metadata": {},
   "outputs": [
    {
     "data": {
      "text/plain": [
       "16251      65.0\n",
       "13813     161.0\n",
       "4525     1464.0\n",
       "8092       60.0\n",
       "7132      943.0\n",
       "17700     224.0\n",
       "11610      71.0\n",
       "5259      326.0\n",
       "10855    1722.0\n",
       "9089      755.0\n",
       "Name: q1_balance, dtype: float64"
      ]
     },
     "execution_count": 290,
     "metadata": {},
     "output_type": "execute_result"
    }
   ],
   "source": [
    "data.q1_balance.sample(10)"
   ]
  },
  {
   "cell_type": "markdown",
   "id": "c0d2480b",
   "metadata": {},
   "source": [
    "### 5) Checking Discrete Data"
   ]
  },
  {
   "cell_type": "code",
   "execution_count": 293,
   "id": "2d7d257c",
   "metadata": {},
   "outputs": [],
   "source": [
    "data = discrete_train"
   ]
  },
  {
   "cell_type": "code",
   "execution_count": 305,
   "id": "d5da17c0",
   "metadata": {
    "scrolled": false
   },
   "outputs": [
    {
     "name": "stdout",
     "output_type": "stream",
     "text": [
      "n_bank_accounts_open\n",
      "1    9586\n",
      "2    2797\n",
      "3     200\n",
      "Name: n_bank_accounts_open, dtype: int64\n",
      "\n",
      "\n",
      "n_credit_cards_held\n",
      "1    4303\n",
      "2    5578\n",
      "3    2331\n",
      "4     371\n",
      "Name: n_credit_cards_held, dtype: int64\n",
      "\n",
      "\n",
      "n_homes_owned\n",
      "1    10146\n",
      "2     2303\n",
      "3      134\n",
      "Name: n_homes_owned, dtype: int64\n",
      "\n",
      "\n",
      "household_size\n",
      "1     392\n",
      "2    1908\n",
      "3    3971\n",
      "4    3935\n",
      "5    2006\n",
      "6     370\n",
      "8       1\n",
      "Name: household_size, dtype: int64\n",
      "\n",
      "\n"
     ]
    }
   ],
   "source": [
    "for column_name in data:\n",
    "\n",
    "    df = data[column_name].value_counts()\n",
    "    index = df.index.sort_values()\n",
    "    print(column_name)\n",
    "    print(df[index])\n",
    "    print('\\n')"
   ]
  },
  {
   "cell_type": "markdown",
   "id": "77f38627",
   "metadata": {},
   "source": [
    "Most columns in **discrete** have less than **5 value**. The only one that doesn't follow this rule is **household_size** which **has 8**. Nevertheless, it can be seen that value 8 have only 1 entry. "
   ]
  },
  {
   "cell_type": "markdown",
   "id": "6055fee1",
   "metadata": {},
   "source": [
    "It is clear what the **n_columns** are. But what is the meaning of **household_size** is more **ambiguous** ."
   ]
  },
  {
   "cell_type": "code",
   "execution_count": 308,
   "id": "62bf93f7",
   "metadata": {},
   "outputs": [
    {
     "data": {
      "text/plain": [
       "3257     No\n",
       "14091    No\n",
       "17881    No\n",
       "17701    No\n",
       "3091     No\n",
       "         ..\n",
       "501      No\n",
       "12091    No\n",
       "15298    No\n",
       "4521     No\n",
       "5932     No\n",
       "Name: offer_accepted, Length: 12583, dtype: object"
      ]
     },
     "execution_count": 308,
     "metadata": {},
     "output_type": "execute_result"
    }
   ],
   "source": [
    "y_train"
   ]
  },
  {
   "cell_type": "code",
   "execution_count": 478,
   "id": "83adf0f9",
   "metadata": {},
   "outputs": [],
   "source": [
    "data = pd.concat([discrete_train, y_train], axis=1)\n",
    "data = data.astype(int, errors='ignore')"
   ]
  },
  {
   "cell_type": "code",
   "execution_count": 444,
   "id": "e8c42bf9",
   "metadata": {},
   "outputs": [
    {
     "name": "stdout",
     "output_type": "stream",
     "text": [
      "total_distribution: (0.944,0.056)\n",
      "\n",
      "n_bank_accounts_open\n",
      "1: (0.943, 0.057)\n",
      "2: (0.946, 0.054)\n",
      "3: (0.96, 0.04)\n",
      "\n",
      "\n",
      "n_credit_cards_held\n",
      "1: (0.942, 0.058)\n",
      "2: (0.946, 0.054)\n",
      "3: (0.943, 0.057)\n",
      "4: (0.943, 0.057)\n",
      "\n",
      "\n",
      "n_homes_owned\n",
      "1: (0.945, 0.055)\n",
      "2: (0.941, 0.059)\n",
      "3: (0.955, 0.045)\n",
      "\n",
      "\n",
      "household_size\n",
      "1: (0.921, 0.079)\n",
      "2: (0.949, 0.051)\n",
      "3: (0.94, 0.06)\n",
      "4: (0.945, 0.055)\n",
      "5: (0.95, 0.05)\n",
      "6: (0.954, 0.046)\n",
      "8: (0.954, 0.046)\n",
      "\n",
      "\n"
     ]
    }
   ],
   "source": [
    "total = len(data)\n",
    "yes_percentage = round(data.offer_accepted.value_counts()['Yes'] / total,3)\n",
    "no_percentage =  round(data.offer_accepted.value_counts()['No'] / total,3)\n",
    "\n",
    "print(f'total_distribution: ({no_percentage},{yes_percentage})\\n')\n",
    "print_target_per_discrete(data) "
   ]
  },
  {
   "cell_type": "markdown",
   "id": "c6b71d1e",
   "metadata": {},
   "source": [
    "### 6) Cheking Categorical Data"
   ]
  },
  {
   "cell_type": "code",
   "execution_count": 481,
   "id": "f5af28fe",
   "metadata": {},
   "outputs": [],
   "source": [
    "data = pd.concat([categorical_train,y_train],axis=1)"
   ]
  },
  {
   "cell_type": "code",
   "execution_count": 477,
   "id": "881466c5",
   "metadata": {
    "scrolled": true
   },
   "outputs": [
    {
     "name": "stdout",
     "output_type": "stream",
     "text": [
      "reward\n",
      "Air Miles    4237\n",
      "Points       4177\n",
      "Cash Back    4169\n",
      "Name: reward, dtype: int64\n",
      "\n",
      "\n",
      "mailer_type\n",
      "Postcard    6349\n",
      "Letter      6234\n",
      "Name: mailer_type, dtype: int64\n",
      "\n",
      "\n",
      "income_level\n",
      "Medium    6305\n",
      "High      3174\n",
      "Low       3104\n",
      "Name: income_level, dtype: int64\n",
      "\n",
      "\n",
      "overdraft_protection\n",
      "No     10668\n",
      "Yes     1915\n",
      "Name: overdraft_protection, dtype: int64\n",
      "\n",
      "\n",
      "credit_rating\n",
      "High      4241\n",
      "Medium    4194\n",
      "Low       4148\n",
      "Name: credit_rating, dtype: int64\n",
      "\n",
      "\n",
      "own_your_home\n",
      "Yes    8137\n",
      "No     4446\n",
      "Name: own_your_home, dtype: int64\n",
      "\n",
      "\n",
      "offer_accepted\n",
      "No     11880\n",
      "Yes      703\n",
      "Name: offer_accepted, dtype: int64\n",
      "\n",
      "\n"
     ]
    }
   ],
   "source": [
    "for column_name in data.columns:\n",
    "    print(column_name)\n",
    "    print(data[column_name].value_counts())\n",
    "    print('\\n')"
   ]
  },
  {
   "cell_type": "markdown",
   "id": "ec471188",
   "metadata": {},
   "source": [
    "We can see here three **types of distribution**: \n",
    "1) There are columns where the distribution is **balanced** (**reward, mailer_type, credit_rating**)\n",
    "<br>2) Columns where there is a **mild imbalance** ( **income level, own_your_home**)\n",
    "<br>3) Columns where there is **a lot of imbalance** (**overdraft_protection**)"
   ]
  },
  {
   "cell_type": "code",
   "execution_count": 482,
   "id": "0d675131",
   "metadata": {},
   "outputs": [
    {
     "name": "stdout",
     "output_type": "stream",
     "text": [
      "total_distribution: (0.944,0.056)\n",
      "\n",
      "reward\n",
      "Air Miles: (0.926, 0.074)\n",
      "Cash Back: (0.965, 0.035)\n",
      "Points: (0.941, 0.059)\n",
      "\n",
      "\n",
      "mailer_type\n",
      "Letter: (0.968, 0.032)\n",
      "Postcard: (0.921, 0.079)\n",
      "\n",
      "\n",
      "income_level\n",
      "High: (0.963, 0.037)\n",
      "Low: (0.917, 0.083)\n",
      "Medium: (0.948, 0.052)\n",
      "\n",
      "\n",
      "overdraft_protection\n",
      "No: (0.944, 0.056)\n",
      "Yes: (0.946, 0.054)\n",
      "\n",
      "\n",
      "credit_rating\n",
      "High: (0.98, 0.02)\n",
      "Low: (0.897, 0.103)\n",
      "Medium: (0.955, 0.045)\n",
      "\n",
      "\n",
      "own_your_home\n",
      "No: (0.944, 0.056)\n",
      "Yes: (0.944, 0.056)\n",
      "\n",
      "\n"
     ]
    }
   ],
   "source": [
    "total = len(data)\n",
    "yes_percentage = round(data.offer_accepted.value_counts()['Yes'] / total,3)\n",
    "no_percentage =  round(data.offer_accepted.value_counts()['No'] / total,3)\n",
    "\n",
    "print(f'total_distribution: ({no_percentage},{yes_percentage})\\n')\n",
    "print_target_per_discrete(data) "
   ]
  }
 ],
 "metadata": {
  "kernelspec": {
   "display_name": "Python 3",
   "language": "python",
   "name": "python3"
  },
  "language_info": {
   "codemirror_mode": {
    "name": "ipython",
    "version": 3
   },
   "file_extension": ".py",
   "mimetype": "text/x-python",
   "name": "python",
   "nbconvert_exporter": "python",
   "pygments_lexer": "ipython3",
   "version": "3.8.8"
  }
 },
 "nbformat": 4,
 "nbformat_minor": 5
}
